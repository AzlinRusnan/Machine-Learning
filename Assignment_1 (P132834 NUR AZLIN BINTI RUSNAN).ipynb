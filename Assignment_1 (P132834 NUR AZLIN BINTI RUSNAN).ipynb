{
 "cells": [
  {
   "cell_type": "markdown",
   "id": "4e3c5035",
   "metadata": {},
   "source": [
    "Q: By using forward, backward, and forward-backward regressions, together with k-fold cross-validation, identify the best model for that dataset."
   ]
  },
  {
   "cell_type": "markdown",
   "id": "b5bc77b7",
   "metadata": {},
   "source": [
    "### About Dataset\n",
    "\n",
    "The title of the dataset is **Estimation of Obesity Levels Based On Eating Habits and Physical Condition** and the dataset is from **https://archive.ics.uci.edu/dataset/544/estimation+of+obesity+levels+based+on+eating+habits+and+physical+condition**\n",
    "\n",
    "This dataset include data for the estimation of obesity levels in individuals from the countries of Mexico, Peru and Colombia, based on their eating habits and physical condition.\n",
    "\n",
    "The dataset contains 2111 entries with 17 features, including both numerical and categorical data. Here’s a quick rundown of the features:\n",
    "\n",
    "1. Gender - Categorical (Male, Female)\n",
    "2. Age - Numeric\n",
    "3. Height - Numeric\n",
    "4. Weight - Numeric\n",
    "5. family_history_with_overweight - Categorical (yes, no)\n",
    "6. FAVC (Frequent consumption of high caloric food) - Categorical (yes, no)\n",
    "7. FCVC (Frequency of consumption of vegetables) - Numeric\n",
    "8. NCP (Number of main meals) - Numeric\n",
    "9. CAEC (Consumption of food between meals) - Categorical\n",
    "10. SMOKE - Categorical (yes, no)\n",
    "11. CH2O (Consumption of water daily) - Numeric\n",
    "12. SCC (Calories consumption monitoring) - Categorical (yes, no)\n",
    "13. FAF (Physical activity frequency) - Numeric\n",
    "14. TUE (Time using technology devices) - Numeric\n",
    "15. CALC (Consumption of alcohol) - Categorical\n",
    "16. MTRANS (Transportation used) - Categorical\n",
    "17. NObeyesdad - Categorical (levels of obesity)"
   ]
  },
  {
   "cell_type": "code",
   "execution_count": 23,
   "id": "5bf4e836",
   "metadata": {},
   "outputs": [
    {
     "name": "stdout",
     "output_type": "stream",
     "text": [
      "   Gender   Age  Height  Weight family_history_with_overweight FAVC  FCVC  \\\n",
      "0  Female  21.0    1.62    64.0                            yes   no   2.0   \n",
      "1  Female  21.0    1.52    56.0                            yes   no   3.0   \n",
      "2    Male  23.0    1.80    77.0                            yes   no   2.0   \n",
      "3    Male  27.0    1.80    87.0                             no   no   3.0   \n",
      "4    Male  22.0    1.78    89.8                             no   no   2.0   \n",
      "\n",
      "   NCP       CAEC SMOKE  CH2O  SCC  FAF  TUE        CALC  \\\n",
      "0  3.0  Sometimes    no   2.0   no  0.0  1.0          no   \n",
      "1  3.0  Sometimes   yes   3.0  yes  3.0  0.0   Sometimes   \n",
      "2  3.0  Sometimes    no   2.0   no  2.0  1.0  Frequently   \n",
      "3  3.0  Sometimes    no   2.0   no  2.0  0.0  Frequently   \n",
      "4  1.0  Sometimes    no   2.0   no  0.0  0.0   Sometimes   \n",
      "\n",
      "                  MTRANS           NObeyesdad  \n",
      "0  Public_Transportation        Normal_Weight  \n",
      "1  Public_Transportation        Normal_Weight  \n",
      "2  Public_Transportation        Normal_Weight  \n",
      "3                Walking   Overweight_Level_I  \n",
      "4  Public_Transportation  Overweight_Level_II  \n",
      "<class 'pandas.core.frame.DataFrame'>\n",
      "RangeIndex: 2111 entries, 0 to 2110\n",
      "Data columns (total 17 columns):\n",
      " #   Column                          Non-Null Count  Dtype  \n",
      "---  ------                          --------------  -----  \n",
      " 0   Gender                          2111 non-null   object \n",
      " 1   Age                             2111 non-null   float64\n",
      " 2   Height                          2111 non-null   float64\n",
      " 3   Weight                          2111 non-null   float64\n",
      " 4   family_history_with_overweight  2111 non-null   object \n",
      " 5   FAVC                            2111 non-null   object \n",
      " 6   FCVC                            2111 non-null   float64\n",
      " 7   NCP                             2111 non-null   float64\n",
      " 8   CAEC                            2111 non-null   object \n",
      " 9   SMOKE                           2111 non-null   object \n",
      " 10  CH2O                            2111 non-null   float64\n",
      " 11  SCC                             2111 non-null   object \n",
      " 12  FAF                             2111 non-null   float64\n",
      " 13  TUE                             2111 non-null   float64\n",
      " 14  CALC                            2111 non-null   object \n",
      " 15  MTRANS                          2111 non-null   object \n",
      " 16  NObeyesdad                      2111 non-null   object \n",
      "dtypes: float64(8), object(9)\n",
      "memory usage: 280.5+ KB\n",
      "None\n"
     ]
    }
   ],
   "source": [
    "import pandas as pd\n",
    "import numpy as np\n",
    "import itertools\n",
    "import statsmodels.api as sm\n",
    "import time\n",
    "from sklearn.model_selection import train_test_split, KFold\n",
    "from sklearn.preprocessing import StandardScaler, OneHotEncoder\n",
    "from sklearn.metrics import mean_squared_error\n",
    "\n",
    "data = pd.read_csv('data/ObesityDataSet_raw_and_data_sinthetic.csv')\n",
    "\n",
    "print(data.head())"
   ]
  },
  {
   "cell_type": "code",
   "execution_count": 45,
   "id": "5410b725",
   "metadata": {},
   "outputs": [
    {
     "name": "stdout",
     "output_type": "stream",
     "text": [
      "<class 'pandas.core.frame.DataFrame'>\n",
      "RangeIndex: 2111 entries, 0 to 2110\n",
      "Data columns (total 17 columns):\n",
      " #   Column                          Non-Null Count  Dtype  \n",
      "---  ------                          --------------  -----  \n",
      " 0   Gender                          2111 non-null   object \n",
      " 1   Age                             2111 non-null   float64\n",
      " 2   Height                          2111 non-null   float64\n",
      " 3   Weight                          2111 non-null   float64\n",
      " 4   family_history_with_overweight  2111 non-null   object \n",
      " 5   FAVC                            2111 non-null   object \n",
      " 6   FCVC                            2111 non-null   float64\n",
      " 7   NCP                             2111 non-null   float64\n",
      " 8   CAEC                            2111 non-null   object \n",
      " 9   SMOKE                           2111 non-null   object \n",
      " 10  CH2O                            2111 non-null   float64\n",
      " 11  SCC                             2111 non-null   object \n",
      " 12  FAF                             2111 non-null   float64\n",
      " 13  TUE                             2111 non-null   float64\n",
      " 14  CALC                            2111 non-null   object \n",
      " 15  MTRANS                          2111 non-null   object \n",
      " 16  NObeyesdad                      2111 non-null   object \n",
      "dtypes: float64(8), object(9)\n",
      "memory usage: 280.5+ KB\n",
      "None\n"
     ]
    }
   ],
   "source": [
    "print(data.info())"
   ]
  },
  {
   "cell_type": "code",
   "execution_count": 24,
   "id": "087ddcf9",
   "metadata": {},
   "outputs": [],
   "source": [
    "# Identify categorical columns\n",
    "categorical_columns = data.select_dtypes(include=['object']).columns"
   ]
  },
  {
   "cell_type": "code",
   "execution_count": 25,
   "id": "d4f59969",
   "metadata": {},
   "outputs": [],
   "source": [
    "# Apply one-hot encoding\n",
    "data_encoded = pd.get_dummies(data, columns=categorical_columns, drop_first=True)"
   ]
  },
  {
   "cell_type": "code",
   "execution_count": 26,
   "id": "5922013b",
   "metadata": {},
   "outputs": [],
   "source": [
    "# Convert boolean columns to integers\n",
    "bool_columns = data_encoded.select_dtypes(include=['bool']).columns\n",
    "data_encoded[bool_columns] = data_encoded[bool_columns].astype(int)"
   ]
  },
  {
   "cell_type": "code",
   "execution_count": 27,
   "id": "ef5789c9",
   "metadata": {},
   "outputs": [],
   "source": [
    "# Standardize the features\n",
    "scaler = StandardScaler()\n",
    "numerical_columns = data_encoded.select_dtypes(include=['float64', 'int64']).columns\n",
    "data_encoded[numerical_columns] = scaler.fit_transform(data_encoded[numerical_columns])"
   ]
  },
  {
   "cell_type": "markdown",
   "id": "c888742e",
   "metadata": {},
   "source": [
    "### Split the Dataset :"
   ]
  },
  {
   "cell_type": "code",
   "execution_count": 28,
   "id": "47bef84e",
   "metadata": {},
   "outputs": [],
   "source": [
    "# response variable should be quantitative\n",
    "response_variable = 'Weight'\n",
    "X = data_encoded.drop(columns=[response_variable])\n",
    "y = data_encoded[response_variable]"
   ]
  },
  {
   "cell_type": "code",
   "execution_count": 29,
   "id": "dbfc991d",
   "metadata": {},
   "outputs": [],
   "source": [
    "# Ensure all data are numeric\n",
    "X = X.apply(pd.to_numeric)\n",
    "y = y.apply(pd.to_numeric)"
   ]
  },
  {
   "cell_type": "code",
   "execution_count": 30,
   "id": "1efe4382",
   "metadata": {},
   "outputs": [],
   "source": [
    "# Split the data into training and testing sets\n",
    "X_train, X_test, y_train, y_test = train_test_split(X, y, test_size=0.2, random_state=42)"
   ]
  },
  {
   "cell_type": "code",
   "execution_count": 44,
   "id": "22181be4",
   "metadata": {},
   "outputs": [
    {
     "name": "stdout",
     "output_type": "stream",
     "text": [
      "(1688, 28) (423, 28) (1688,) (423,)\n"
     ]
    }
   ],
   "source": [
    "# Display the shape of training and testing sets\n",
    "print(X_train.shape, X_test.shape, y_train.shape, y_test.shape)"
   ]
  },
  {
   "cell_type": "markdown",
   "id": "af3bcf79",
   "metadata": {},
   "source": [
    "### Define Model Selection Functions"
   ]
  },
  {
   "cell_type": "code",
   "execution_count": 31,
   "id": "f63e9344",
   "metadata": {},
   "outputs": [],
   "source": [
    "# Define k-fold cross-validation\n",
    "kf = KFold(n_splits=5, shuffle=True, random_state=42)"
   ]
  },
  {
   "cell_type": "code",
   "execution_count": 32,
   "id": "86db4073",
   "metadata": {},
   "outputs": [],
   "source": [
    "# Define the processSubset function with cross-validation\n",
    "def processSubset(feature_set, X, y, kf):\n",
    "    X_const = sm.add_constant(X[list(feature_set)])\n",
    "    mses = []\n",
    "    r2s = []\n",
    "    for train_index, val_index in kf.split(X_const):\n",
    "        X_train, X_val = X_const.iloc[train_index], X_const.iloc[val_index]\n",
    "        y_train, y_val = y.iloc[train_index], y.iloc[val_index]\n",
    "        model = sm.OLS(y_train, X_train).fit()\n",
    "        predictions = model.predict(X_val)\n",
    "        mse = mean_squared_error(y_val, predictions)\n",
    "        r2 = model.rsquared\n",
    "        mses.append(mse)\n",
    "        r2s.append(r2)\n",
    "    avg_mse = np.mean(mses)\n",
    "    avg_r2 = np.mean(r2s)\n",
    "    return {\"model\": model, \"RSS\": avg_mse, \"R2\": avg_r2}"
   ]
  },
  {
   "cell_type": "code",
   "execution_count": 33,
   "id": "f73e1292",
   "metadata": {},
   "outputs": [],
   "source": [
    "# Define getBest function\n",
    "def getBest(n_predictors, X, y, kf):\n",
    "    results = []\n",
    "    for combo in itertools.combinations(X.columns, n_predictors):\n",
    "        results.append(processSubset(combo, X, y, kf))\n",
    "    models = pd.DataFrame(results)\n",
    "    best_model = models.loc[models['RSS'].idxmin()]\n",
    "    return best_model"
   ]
  },
  {
   "cell_type": "code",
   "execution_count": 34,
   "id": "586b3875",
   "metadata": {},
   "outputs": [],
   "source": [
    "# Backward Selection with Cross-Validation\n",
    "def backward(predictors, X, y, kf):\n",
    "    if len(predictors) <= 1:\n",
    "        return None  # No need to do backward selection if we have 1 or 0 predictors\n",
    "    \n",
    "    tic = time.time()\n",
    "    results = []\n",
    "    for combo in itertools.combinations(predictors, len(predictors) - 1):\n",
    "        results.append(processSubset(combo, X, y, kf))\n",
    "    models = pd.DataFrame(results)\n",
    "    best_model = models.loc[models['RSS'].idxmin()]\n",
    "    toc = time.time()\n",
    "    print(\"Processed\", models.shape[0], \"models on\", len(predictors) - 1, \"predictors in\", (toc - tic), \"seconds.\")\n",
    "    return best_model"
   ]
  },
  {
   "cell_type": "code",
   "execution_count": 35,
   "id": "2ff5d942",
   "metadata": {},
   "outputs": [],
   "source": [
    "# Forward Selection with Cross-Validation\n",
    "def forward(predictors, X, y, kf):\n",
    "    tic = time.time()\n",
    "    remaining_predictors = [p for p in X.columns if p not in predictors]\n",
    "    results = []\n",
    "    for p in remaining_predictors:\n",
    "        results.append(processSubset(predictors + [p], X, y, kf))\n",
    "    models = pd.DataFrame(results)\n",
    "    best_model = models.loc[models['RSS'].idxmin()]\n",
    "    toc = time.time()\n",
    "    print(\"Processed\", models.shape[0], \"models on\", len(predictors) + 1, \"predictors in\", (toc - tic), \"seconds.\")\n",
    "    return best_model"
   ]
  },
  {
   "cell_type": "code",
   "execution_count": 36,
   "id": "8e40aa8d",
   "metadata": {},
   "outputs": [],
   "source": [
    "# Forward-Backward Selection with Cross-Validation\n",
    "def forward_backward(predictors, X, y, kf):\n",
    "    tic = time.time()\n",
    "    results = []\n",
    "\n",
    "    # Forward step\n",
    "    remaining_predictors = [p for p in X.columns if p not in predictors]\n",
    "    for p in remaining_predictors:\n",
    "        results.append(processSubset(predictors + [p], X, y, kf))\n",
    "    \n",
    "    # Backward step, only if predictors are not empty\n",
    "    if len(predictors) > 0:\n",
    "        for combo in itertools.combinations(predictors, len(predictors) - 1):\n",
    "            results.append(processSubset(combo, X, y, kf))\n",
    "    \n",
    "    models = pd.DataFrame(results)\n",
    "    best_model = models.loc[models['RSS'].idxmin()]\n",
    "    toc = time.time()\n",
    "    print(\"Processed\", models.shape[0], \"models on\", len(predictors) + 1, \"predictors in\", (toc - tic), \"seconds.\")\n",
    "    return best_model"
   ]
  },
  {
   "cell_type": "markdown",
   "id": "0c29dfa1",
   "metadata": {},
   "source": [
    "### Run Model Selection Methods:"
   ]
  },
  {
   "cell_type": "code",
   "execution_count": 37,
   "id": "5763a516",
   "metadata": {},
   "outputs": [
    {
     "name": "stdout",
     "output_type": "stream",
     "text": [
      "Processed 28 models on 27 predictors in 0.5952112674713135 seconds.\n",
      "Processed 27 models on 26 predictors in 0.5412170886993408 seconds.\n",
      "Processed 26 models on 25 predictors in 0.47001075744628906 seconds.\n",
      "Processed 25 models on 24 predictors in 0.47474169731140137 seconds.\n",
      "Processed 24 models on 23 predictors in 0.4250521659851074 seconds.\n",
      "Processed 23 models on 22 predictors in 0.414229154586792 seconds.\n",
      "Processed 22 models on 21 predictors in 0.4049954414367676 seconds.\n",
      "Processed 21 models on 20 predictors in 0.5121030807495117 seconds.\n",
      "Processed 20 models on 19 predictors in 0.38934898376464844 seconds.\n",
      "Processed 19 models on 18 predictors in 0.5814323425292969 seconds.\n",
      "Processed 18 models on 17 predictors in 0.36900877952575684 seconds.\n",
      "Processed 17 models on 16 predictors in 0.4110419750213623 seconds.\n",
      "Processed 16 models on 15 predictors in 0.3821375370025635 seconds.\n",
      "Processed 15 models on 14 predictors in 0.1862201690673828 seconds.\n",
      "Processed 14 models on 13 predictors in 0.15095305442810059 seconds.\n",
      "Processed 13 models on 12 predictors in 0.12491583824157715 seconds.\n",
      "Processed 12 models on 11 predictors in 0.12411808967590332 seconds.\n",
      "Processed 11 models on 10 predictors in 0.11635398864746094 seconds.\n",
      "Processed 10 models on 9 predictors in 0.10968279838562012 seconds.\n",
      "Processed 9 models on 8 predictors in 0.09698748588562012 seconds.\n",
      "Processed 8 models on 7 predictors in 0.09580349922180176 seconds.\n",
      "Processed 7 models on 6 predictors in 0.08089637756347656 seconds.\n",
      "Processed 6 models on 5 predictors in 0.04698538780212402 seconds.\n",
      "Processed 5 models on 4 predictors in 0.031252145767211914 seconds.\n",
      "Processed 4 models on 3 predictors in 0.03118443489074707 seconds.\n",
      "Processed 3 models on 2 predictors in 0.01559591293334961 seconds.\n",
      "Processed 2 models on 1 predictors in 0.0 seconds.\n",
      "Total elapsed time for backward selection: 7.221644401550293 seconds.\n"
     ]
    }
   ],
   "source": [
    "# Run Backward Selection with Cross-Validation\n",
    "predictors = X_train.columns.tolist()\n",
    "models_bwd = pd.DataFrame(columns=[\"RSS\", \"R2\", \"model\"], index=range(1, len(predictors)))\n",
    "tic = time.time()\n",
    "\n",
    "while len(predictors) > 1:\n",
    "    best_model = backward(predictors, X_train, y_train, kf)\n",
    "    if best_model is not None:\n",
    "        models_bwd.loc[len(predictors) - 1] = best_model\n",
    "        predictors = best_model[\"model\"].model.exog_names[1:]\n",
    "\n",
    "toc = time.time()\n",
    "print(\"Total elapsed time for backward selection:\", (toc - tic), \"seconds.\")"
   ]
  },
  {
   "cell_type": "code",
   "execution_count": 38,
   "id": "de5a19bf",
   "metadata": {},
   "outputs": [
    {
     "name": "stdout",
     "output_type": "stream",
     "text": [
      "Processed 28 models on 1 predictors in 0.19500041007995605 seconds.\n",
      "Processed 27 models on 2 predictors in 0.18939661979675293 seconds.\n",
      "Processed 26 models on 3 predictors in 0.21008825302124023 seconds.\n",
      "Processed 25 models on 4 predictors in 0.22831416130065918 seconds.\n",
      "Processed 24 models on 5 predictors in 0.21955084800720215 seconds.\n",
      "Processed 23 models on 6 predictors in 0.24396014213562012 seconds.\n",
      "Processed 22 models on 7 predictors in 0.23849153518676758 seconds.\n",
      "Processed 21 models on 8 predictors in 0.1661384105682373 seconds.\n",
      "Processed 20 models on 9 predictors in 0.17100262641906738 seconds.\n",
      "Processed 19 models on 10 predictors in 0.17186570167541504 seconds.\n",
      "Processed 18 models on 11 predictors in 0.1820216178894043 seconds.\n",
      "Processed 17 models on 12 predictors in 0.15642547607421875 seconds.\n",
      "Processed 16 models on 13 predictors in 0.16955161094665527 seconds.\n",
      "Processed 15 models on 14 predictors in 0.15625262260437012 seconds.\n",
      "Processed 14 models on 15 predictors in 0.32001495361328125 seconds.\n",
      "Processed 13 models on 16 predictors in 0.21985411643981934 seconds.\n",
      "Processed 12 models on 17 predictors in 0.19462871551513672 seconds.\n",
      "Processed 11 models on 18 predictors in 0.18552589416503906 seconds.\n",
      "Processed 10 models on 19 predictors in 0.1562516689300537 seconds.\n",
      "Processed 9 models on 20 predictors in 0.15272212028503418 seconds.\n",
      "Processed 8 models on 21 predictors in 0.2267303466796875 seconds.\n",
      "Processed 7 models on 22 predictors in 0.1555938720703125 seconds.\n",
      "Processed 6 models on 23 predictors in 0.0863046646118164 seconds.\n",
      "Processed 5 models on 24 predictors in 0.1514434814453125 seconds.\n",
      "Processed 4 models on 25 predictors in 0.09620976448059082 seconds.\n",
      "Processed 3 models on 26 predictors in 0.04973936080932617 seconds.\n",
      "Processed 2 models on 27 predictors in 0.031287193298339844 seconds.\n",
      "Processed 1 models on 28 predictors in 0.015598297119140625 seconds.\n",
      "Total elapsed time for forward selection: 4.767036437988281 seconds.\n"
     ]
    }
   ],
   "source": [
    "# Run Forward Selection with Cross-Validation\n",
    "predictors = []\n",
    "models_fwd = pd.DataFrame(columns=[\"RSS\", \"R2\", \"model\"], index=range(1, len(X_train.columns) + 1))\n",
    "tic = time.time()\n",
    "\n",
    "for i in range(1, len(X_train.columns) + 1):\n",
    "    best_model = forward(predictors, X_train, y_train, kf)\n",
    "    models_fwd.loc[i] = best_model\n",
    "    predictors = best_model[\"model\"].model.exog_names[1:]\n",
    "\n",
    "toc = time.time()\n",
    "print(\"Total elapsed time for forward selection:\", (toc - tic), \"seconds.\")"
   ]
  },
  {
   "cell_type": "code",
   "execution_count": 39,
   "id": "1ab0e363",
   "metadata": {},
   "outputs": [
    {
     "name": "stdout",
     "output_type": "stream",
     "text": [
      "Processed 28 models on 1 predictors in 0.16898584365844727 seconds.\n",
      "Processed 28 models on 2 predictors in 0.18557357788085938 seconds.\n",
      "Processed 28 models on 3 predictors in 0.21342253684997559 seconds.\n",
      "Processed 28 models on 4 predictors in 0.2431659698486328 seconds.\n",
      "Processed 28 models on 5 predictors in 0.26268458366394043 seconds.\n",
      "Processed 28 models on 6 predictors in 0.2868683338165283 seconds.\n",
      "Processed 28 models on 7 predictors in 0.30193138122558594 seconds.\n",
      "Processed 28 models on 8 predictors in 0.24024343490600586 seconds.\n",
      "Processed 28 models on 9 predictors in 0.24741029739379883 seconds.\n",
      "Processed 28 models on 10 predictors in 0.2577788829803467 seconds.\n",
      "Processed 28 models on 11 predictors in 0.2643885612487793 seconds.\n",
      "Processed 28 models on 12 predictors in 0.2595202922821045 seconds.\n",
      "Processed 28 models on 13 predictors in 0.2827112674713135 seconds.\n",
      "Processed 28 models on 14 predictors in 0.2857072353363037 seconds.\n",
      "Processed 28 models on 15 predictors in 0.5166687965393066 seconds.\n",
      "Processed 28 models on 16 predictors in 0.4027416706085205 seconds.\n",
      "Processed 28 models on 17 predictors in 0.7868800163269043 seconds.\n",
      "Processed 28 models on 18 predictors in 0.7154076099395752 seconds.\n",
      "Processed 28 models on 19 predictors in 0.6383192539215088 seconds.\n",
      "Processed 28 models on 18 predictors in 0.5954601764678955 seconds.\n",
      "Processed 28 models on 19 predictors in 0.6318421363830566 seconds.\n",
      "Processed 28 models on 18 predictors in 0.8207790851593018 seconds.\n",
      "Processed 28 models on 19 predictors in 0.7116374969482422 seconds.\n",
      "Processed 28 models on 18 predictors in 0.690913200378418 seconds.\n",
      "Processed 28 models on 19 predictors in 0.7193500995635986 seconds.\n",
      "Processed 28 models on 18 predictors in 0.7700762748718262 seconds.\n",
      "Processed 28 models on 19 predictors in 0.6325798034667969 seconds.\n",
      "Processed 28 models on 18 predictors in 0.6469345092773438 seconds.\n",
      "Total elapsed time for forward-backward selection: 12.830739498138428 seconds.\n"
     ]
    }
   ],
   "source": [
    "# Run Forward-Backward Selection with Cross-Validation\n",
    "predictors = []\n",
    "models_fwd_bwd = pd.DataFrame(columns=[\"RSS\", \"R2\", \"model\"], index=range(1, len(X_train.columns) + 1))\n",
    "tic = time.time()\n",
    "\n",
    "for i in range(1, len(X_train.columns) + 1):\n",
    "    best_model = forward_backward(predictors, X_train, y_train, kf)\n",
    "    models_fwd_bwd.loc[i] = best_model\n",
    "    predictors = best_model[\"model\"].model.exog_names[1:]\n",
    "\n",
    "toc = time.time()\n",
    "print(\"Total elapsed time for forward-backward selection:\", (toc - tic), \"seconds.\")"
   ]
  },
  {
   "cell_type": "markdown",
   "id": "dfae0020",
   "metadata": {},
   "source": [
    "### Evaluate and Determine the Best Model"
   ]
  },
  {
   "cell_type": "code",
   "execution_count": 40,
   "id": "c97446f3",
   "metadata": {},
   "outputs": [
    {
     "name": "stdout",
     "output_type": "stream",
     "text": [
      "-----------------\n",
      "Backward Selection:\n",
      "-----------------\n",
      "Number of Predictors | RSS        | R2\n",
      "                  1 | 0.68348 | 0.31237\n",
      "                  2 | 0.37924 | 0.61937\n",
      "                  3 | 0.25771 | 0.74196\n",
      "                  4 | 0.14774 | 0.85214\n",
      "                  5 | 0.09949 | 0.90082\n",
      "                  6 | 0.05780 | 0.94209\n",
      "                  7 | 0.03979 | 0.96017\n",
      "                  8 | 0.03912 | 0.96084\n",
      "                  9 | 0.03863 | 0.96140\n",
      "                 10 | 0.03820 | 0.96183\n",
      "                 11 | 0.03788 | 0.96215\n",
      "                 12 | 0.03776 | 0.96229\n",
      "                 13 | 0.03765 | 0.96244\n",
      "                 14 | 0.03758 | 0.96252\n",
      "                 15 | 0.03754 | 0.96262\n",
      "                 16 | 0.03749 | 0.96271\n",
      "                 17 | 0.03744 | 0.96282\n",
      "                 18 | 0.03744 | 0.96283\n",
      "                 19 | 0.03746 | 0.96284\n",
      "                 20 | 0.03747 | 0.96292\n",
      "                 21 | 0.03749 | 0.96293\n",
      "                 22 | 0.03751 | 0.96293\n",
      "                 23 | 0.03753 | 0.96294\n",
      "                 24 | 0.03758 | 0.96295\n",
      "                 25 | 0.03763 | 0.96303\n",
      "                 26 | 0.03769 | 0.96306\n",
      "                 27 | 0.03777 | 0.96311\n",
      "-----------------\n",
      "Forward Selection:\n",
      "-----------------\n",
      "Number of Predictors | RSS        | R2\n",
      "                  1 | 0.68348 | 0.31237\n",
      "                  2 | 0.37924 | 0.61937\n",
      "                  3 | 0.25771 | 0.74196\n",
      "                  4 | 0.14774 | 0.85214\n",
      "                  5 | 0.09949 | 0.90082\n",
      "                  6 | 0.05780 | 0.94209\n",
      "                  7 | 0.03979 | 0.96017\n",
      "                  8 | 0.03912 | 0.96084\n",
      "                  9 | 0.03863 | 0.96140\n",
      "                 10 | 0.03820 | 0.96183\n",
      "                 11 | 0.03788 | 0.96215\n",
      "                 12 | 0.03776 | 0.96229\n",
      "                 13 | 0.03765 | 0.96244\n",
      "                 14 | 0.03758 | 0.96252\n",
      "                 15 | 0.03754 | 0.96262\n",
      "                 16 | 0.03749 | 0.96271\n",
      "                 17 | 0.03744 | 0.96282\n",
      "                 18 | 0.03744 | 0.96283\n",
      "                 19 | 0.03746 | 0.96284\n",
      "                 20 | 0.03747 | 0.96292\n",
      "                 21 | 0.03749 | 0.96293\n",
      "                 22 | 0.03751 | 0.96293\n",
      "                 23 | 0.03753 | 0.96294\n",
      "                 24 | 0.03758 | 0.96295\n",
      "                 25 | 0.03763 | 0.96303\n",
      "                 26 | 0.03769 | 0.96306\n",
      "                 27 | 0.03777 | 0.96311\n",
      "                 28 | 0.03788 | 0.96311\n",
      "-----------------\n",
      "Forward-Backward Selection:\n",
      "-----------------\n",
      "Number of Predictors | RSS        | R2\n",
      "                  1 | 0.68348 | 0.31237\n",
      "                  2 | 0.37924 | 0.61937\n",
      "                  3 | 0.25771 | 0.74196\n",
      "                  4 | 0.14774 | 0.85214\n",
      "                  5 | 0.09949 | 0.90082\n",
      "                  6 | 0.05780 | 0.94209\n",
      "                  7 | 0.03979 | 0.96017\n",
      "                  8 | 0.03912 | 0.96084\n",
      "                  9 | 0.03863 | 0.96140\n",
      "                 10 | 0.03820 | 0.96183\n",
      "                 11 | 0.03788 | 0.96215\n",
      "                 12 | 0.03776 | 0.96229\n",
      "                 13 | 0.03765 | 0.96244\n",
      "                 14 | 0.03758 | 0.96252\n",
      "                 15 | 0.03754 | 0.96262\n",
      "                 16 | 0.03749 | 0.96271\n",
      "                 17 | 0.03744 | 0.96282\n",
      "                 18 | 0.03744 | 0.96283\n",
      "                 19 | 0.03744 | 0.96282\n",
      "                 20 | 0.03744 | 0.96283\n",
      "                 21 | 0.03744 | 0.96282\n",
      "                 22 | 0.03744 | 0.96283\n",
      "                 23 | 0.03744 | 0.96282\n",
      "                 24 | 0.03744 | 0.96283\n",
      "                 25 | 0.03744 | 0.96282\n",
      "                 26 | 0.03744 | 0.96283\n",
      "                 27 | 0.03744 | 0.96282\n",
      "                 28 | 0.03744 | 0.96283\n"
     ]
    }
   ],
   "source": [
    "# Evaluate the models\n",
    "def evaluate_models(models):\n",
    "    print(\"Number of Predictors | RSS        | R2\")\n",
    "    for i in range(1, len(models) + 1):\n",
    "        print(f\"{i:19} | {models.loc[i, 'RSS']:.5f} | {models.loc[i, 'R2']:.5f}\")\n",
    "\n",
    "print(\"-----------------\")\n",
    "print(\"Backward Selection:\")\n",
    "print(\"-----------------\")\n",
    "evaluate_models(models_bwd)\n",
    "\n",
    "print(\"-----------------\")\n",
    "print(\"Forward Selection:\")\n",
    "print(\"-----------------\")\n",
    "evaluate_models(models_fwd)\n",
    "\n",
    "print(\"-----------------\")\n",
    "print(\"Forward-Backward Selection:\")\n",
    "print(\"-----------------\")\n",
    "evaluate_models(models_fwd_bwd)"
   ]
  },
  {
   "cell_type": "markdown",
   "id": "ff3d70f4",
   "metadata": {},
   "source": [
    "#### Insights:\n",
    "The stability of RSS and R² values from 17 predictors onwards in Forward-Backward Selection indicates that the model has likely reached its optimal complexity. Additional predictors are not contributing to better model performance."
   ]
  },
  {
   "cell_type": "code",
   "execution_count": 41,
   "id": "8731ad0e",
   "metadata": {},
   "outputs": [],
   "source": [
    "#Determine the best model\n",
    "def determine_best_model(models):\n",
    "    best_index = models['RSS'].idxmin()\n",
    "    best_model = models.loc[best_index, \"model\"]\n",
    "    print(f\"Best Model with {best_index} predictors\")\n",
    "    print(f\"RSS: {models.loc[best_index, 'RSS']:.5f}, R2: {models.loc[best_index, 'R2']:.5f}\")\n",
    "    return best_model"
   ]
  },
  {
   "cell_type": "code",
   "execution_count": 42,
   "id": "8b4e555d",
   "metadata": {},
   "outputs": [
    {
     "name": "stdout",
     "output_type": "stream",
     "text": [
      "Determining the Best Model from Forward-Backward Selection:\n",
      "Best Model with 17 predictors\n",
      "RSS: 0.03744, R2: 0.96282\n"
     ]
    }
   ],
   "source": [
    "print(\"Determining the Best Model from Forward-Backward Selection:\")\n",
    "best_model = determine_best_model(models_fwd_bwd)"
   ]
  },
  {
   "cell_type": "markdown",
   "id": "0ad0a184",
   "metadata": {},
   "source": [
    "#### Insights:\n",
    "\n",
    "By focusing on stepwise selection methods, which include forward selection, backward selection, and a combination of both (forward-backward selection), is a practical approach because it balances computational efficiency with model performance.\n",
    "\n",
    "Best Model Characteristics:\n",
    "\n",
    "- Number of Predictors: The best model uses 17 predictors.\n",
    "- Residual Sum of Squares (RSS): 0.03744. RSS is a measure of the discrepancy between the observed and predicted values. A lower RSS indicates a better fit of the model to the data.\n",
    "- R-squared (R²): 0.96282. R² indicates the proportion of the variance in the dependent variable that is predictable from the independent variables. An R² value of 0.96282 means that approximately 96.28% of the variance in the response variable (Weight) is explained by the predictors in the model."
   ]
  },
  {
   "cell_type": "code",
   "execution_count": 43,
   "id": "a3acebb7",
   "metadata": {},
   "outputs": [
    {
     "name": "stdout",
     "output_type": "stream",
     "text": [
      "const                            -1.379973\n",
      "NObeyesdad_Obesity_Type_III       2.790548\n",
      "NObeyesdad_Obesity_Type_II        2.272819\n",
      "Height                            0.346073\n",
      "NObeyesdad_Obesity_Type_I         1.680967\n",
      "NObeyesdad_Overweight_Level_II    1.239459\n",
      "NObeyesdad_Overweight_Level_I     0.978054\n",
      "NObeyesdad_Normal_Weight          0.554750\n",
      "CAEC_Frequently                   0.098027\n",
      "FAF                               0.025364\n",
      "NCP                              -0.024388\n",
      "CALC_Sometimes                    0.047349\n",
      "Age                              -0.024398\n",
      "MTRANS_Public_Transportation     -0.054816\n",
      "CAEC_no                           0.065153\n",
      "MTRANS_Walking                   -0.089349\n",
      "FAVC_yes                         -0.032663\n",
      "TUE                               0.007518\n",
      "dtype: float64\n"
     ]
    }
   ],
   "source": [
    "# Print the parameters of the best model\n",
    "print(best_model.params)"
   ]
  },
  {
   "cell_type": "markdown",
   "id": "c4cedd4a",
   "metadata": {},
   "source": [
    "#### Insights:\n",
    "Significant Predictors:\n",
    "- NObeyesdad_Obesity_Type_III: 2.790548\n",
    "- NObeyesdad_Obesity_Type_II: 2.272819\n",
    "- NObeyesdad_Obesity_Type_I: 1.680967\n",
    "- NObeyesdad_Overweight_Level_II: 1.239459\n",
    "- NObeyesdad_Overweight_Level_I: 0.978054\n",
    "- NObeyesdad_Normal_Weight: 0.554750\n",
    "\n",
    "These coefficients indicate the impact of different obesity and weight categories on the response variable.\n",
    "\n",
    "- Obesity and Weight Categories: The largest coefficients are associated with the obesity and weight categories, indicating these factors have the most significant impact on the response variable.\n",
    "- Height and Physical Activity: Height and physical activity (FAF) are positively correlated with the response variable.\n",
    "- Age and Meal Patterns: Age and meal patterns (NCP) show a slight negative association, indicating that older age and more frequent meals might slightly decrease the response variable.\n",
    "- Transportation and Alcohol Consumption: Modes of transportation and alcohol consumption patterns have smaller but notable effects."
   ]
  },
  {
   "cell_type": "markdown",
   "id": "357dce3a",
   "metadata": {},
   "source": [
    "### Evaluating the Model on Test Data"
   ]
  },
  {
   "cell_type": "code",
   "execution_count": 46,
   "id": "09cfd8f0",
   "metadata": {},
   "outputs": [
    {
     "name": "stdout",
     "output_type": "stream",
     "text": [
      "Test MSE: 0.03927\n",
      "Test R²: 0.96291\n"
     ]
    }
   ],
   "source": [
    "# Add a constant to the test set\n",
    "X_test_const = sm.add_constant(X_test)\n",
    "\n",
    "# Make predictions on the test set using the best model\n",
    "y_pred = best_model.predict(X_test_const[list(best_model.params.index)])\n",
    "\n",
    "# Calculate performance metrics on the test set\n",
    "test_mse = mean_squared_error(y_test, y_pred)\n",
    "test_r2 = best_model.rsquared\n",
    "\n",
    "print(f\"Test MSE: {test_mse:.5f}\")\n",
    "print(f\"Test R²: {test_r2:.5f}\")"
   ]
  },
  {
   "cell_type": "markdown",
   "id": "9052a9d7",
   "metadata": {},
   "source": [
    "#### Insights:\n",
    "1. The low Test MSE indicates that the model makes accurate predictions on the test data.\n",
    "2. The high Test R² shows that the model explains most of the variability in the response variable.\n",
    "\n",
    "The model has demonstrated excellent predictive performance on the test data, as evidenced by the low Test MSE and high Test R². These results suggest that the model is both accurate and generalizes well to unseen data, making it a reliable tool for prediction and analysis in the given context."
   ]
  }
 ],
 "metadata": {
  "kernelspec": {
   "display_name": "Python 3 (ipykernel)",
   "language": "python",
   "name": "python3"
  },
  "language_info": {
   "codemirror_mode": {
    "name": "ipython",
    "version": 3
   },
   "file_extension": ".py",
   "mimetype": "text/x-python",
   "name": "python",
   "nbconvert_exporter": "python",
   "pygments_lexer": "ipython3",
   "version": "3.11.7"
  }
 },
 "nbformat": 4,
 "nbformat_minor": 5
}
