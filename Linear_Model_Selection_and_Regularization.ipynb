{
  "nbformat": 4,
  "nbformat_minor": 0,
  "metadata": {
    "colab": {
      "provenance": [],
      "authorship_tag": "ABX9TyMcyASgMPXuwjzMcEOZKCou",
      "include_colab_link": true
    },
    "kernelspec": {
      "name": "python3",
      "display_name": "Python 3"
    },
    "language_info": {
      "name": "python"
    }
  },
  "cells": [
    {
      "cell_type": "markdown",
      "metadata": {
        "id": "view-in-github",
        "colab_type": "text"
      },
      "source": [
        "<a href=\"https://colab.research.google.com/github/AzlinRusnan/Machine-Learning/blob/main/Linear_Model_Selection_and_Regularization.ipynb\" target=\"_parent\"><img src=\"https://colab.research.google.com/assets/colab-badge.svg\" alt=\"Open In Colab\"/></a>"
      ]
    },
    {
      "cell_type": "markdown",
      "source": [
        "This topic shows methos used to improve the accuracy and interpretability of linear models, especially when dealing with complex data or when the number of predictors (variables) is high compared to the number of observations (data points)."
      ],
      "metadata": {
        "id": "ZMypeQMPzCta"
      }
    },
    {
      "cell_type": "markdown",
      "source": [
        "LMS involves choosing the best subset of predictors that contribute meaningfully to predicting the output.\n",
        "\n",
        "\n",
        "*   The goal is to select model that neither overfit nor underfits the data\n",
        "*   Overfitting happens when a model is too complex, capturing noise in the data rather than the actual underlying pattern.\n",
        "*   Underfitting occurs when a model is too simple to capture the underlying pattern in the data.\n",
        "\n",
        "**Common technique of LMS**\n",
        "\n",
        "\n",
        "1.   Stepwise Regression\n",
        "\n",
        "\n",
        "*   Forward Selection - Starting with no variable and adding them one by one based on statistical criteria\n",
        "*   Backward Selection - Starting with all variables and removing them one at a time.\n",
        "\n",
        "*   Both\n",
        "   \n",
        "\n",
        "2.   Best Subset Selection\n",
        "\n",
        "\n",
        "*   This methods evaluates all possible combinations of variables to find the subset that best fit the data according to a chosen criterion.\n",
        "\n",
        "\n",
        "\n",
        "\n",
        "\n",
        "\n",
        "\n",
        "\n"
      ],
      "metadata": {
        "id": "OLNmdb8fzdUx"
      }
    },
    {
      "cell_type": "code",
      "execution_count": 1,
      "metadata": {
        "id": "O31YdBZ7ssZ-"
      },
      "outputs": [],
      "source": [
        "%matplotlib inline\n",
        "import pandas as pd\n",
        "import numpy as np\n",
        "import itertools\n",
        "import time\n",
        "import statsmodels.api as sm\n",
        "import matplotlib.pyplot as plt"
      ]
    },
    {
      "cell_type": "code",
      "source": [
        "from google.colab import drive\n",
        "drive.mount('/content/gdrive')"
      ],
      "metadata": {
        "colab": {
          "base_uri": "https://localhost:8080/"
        },
        "id": "1qKDpl1U1xkV",
        "outputId": "90e663ec-47e2-45ff-c596-60e55a453191"
      },
      "execution_count": 2,
      "outputs": [
        {
          "output_type": "stream",
          "name": "stdout",
          "text": [
            "Mounted at /content/gdrive\n"
          ]
        }
      ]
    },
    {
      "cell_type": "code",
      "source": [
        "file_path = '/content/gdrive/MyDrive/STQD 6024 Machine Learning/hitters.csv'\n",
        "hitters_df = pd.read_csv(file_path)\n",
        "hitters_df.head()"
      ],
      "metadata": {
        "colab": {
          "base_uri": "https://localhost:8080/",
          "height": 235
        },
        "id": "9sZo07-g2OnN",
        "outputId": "03e71f74-db9a-4776-82ba-60024641a5c1"
      },
      "execution_count": 4,
      "outputs": [
        {
          "output_type": "execute_result",
          "data": {
            "text/plain": [
              "  Unnamed: 0  AtBat  Hits  HmRun  Runs  RBI  Walks  Years  CAtBat  CHits  ...  \\\n",
              "0     #NAME?    293    66      1    30   29     14      1     293     66  ...   \n",
              "1     #NAME?    315    81      7    24   38     39     14    3449    835  ...   \n",
              "2     #NAME?    479   130     18    66   72     76      3    1624    457  ...   \n",
              "3     #NAME?    496   141     20    65   78     37     11    5628   1575  ...   \n",
              "4     #NAME?    321    87     10    39   42     30      2     396    101  ...   \n",
              "\n",
              "   CRuns  CRBI  CWalks  League Division PutOuts  Assists  Errors  Salary  \\\n",
              "0     30    29      14       A        E     446       33      20     NaN   \n",
              "1    321   414     375       N        W     632       43      10   475.0   \n",
              "2    224   266     263       A        W     880       82      14   480.0   \n",
              "3    828   838     354       N        E     200       11       3   500.0   \n",
              "4     48    46      33       N        E     805       40       4    91.5   \n",
              "\n",
              "   NewLeague  \n",
              "0          A  \n",
              "1          N  \n",
              "2          A  \n",
              "3          N  \n",
              "4          N  \n",
              "\n",
              "[5 rows x 21 columns]"
            ],
            "text/html": [
              "\n",
              "  <div id=\"df-3eead52e-9002-455c-a08d-d51648104cc7\" class=\"colab-df-container\">\n",
              "    <div>\n",
              "<style scoped>\n",
              "    .dataframe tbody tr th:only-of-type {\n",
              "        vertical-align: middle;\n",
              "    }\n",
              "\n",
              "    .dataframe tbody tr th {\n",
              "        vertical-align: top;\n",
              "    }\n",
              "\n",
              "    .dataframe thead th {\n",
              "        text-align: right;\n",
              "    }\n",
              "</style>\n",
              "<table border=\"1\" class=\"dataframe\">\n",
              "  <thead>\n",
              "    <tr style=\"text-align: right;\">\n",
              "      <th></th>\n",
              "      <th>Unnamed: 0</th>\n",
              "      <th>AtBat</th>\n",
              "      <th>Hits</th>\n",
              "      <th>HmRun</th>\n",
              "      <th>Runs</th>\n",
              "      <th>RBI</th>\n",
              "      <th>Walks</th>\n",
              "      <th>Years</th>\n",
              "      <th>CAtBat</th>\n",
              "      <th>CHits</th>\n",
              "      <th>...</th>\n",
              "      <th>CRuns</th>\n",
              "      <th>CRBI</th>\n",
              "      <th>CWalks</th>\n",
              "      <th>League</th>\n",
              "      <th>Division</th>\n",
              "      <th>PutOuts</th>\n",
              "      <th>Assists</th>\n",
              "      <th>Errors</th>\n",
              "      <th>Salary</th>\n",
              "      <th>NewLeague</th>\n",
              "    </tr>\n",
              "  </thead>\n",
              "  <tbody>\n",
              "    <tr>\n",
              "      <th>0</th>\n",
              "      <td>#NAME?</td>\n",
              "      <td>293</td>\n",
              "      <td>66</td>\n",
              "      <td>1</td>\n",
              "      <td>30</td>\n",
              "      <td>29</td>\n",
              "      <td>14</td>\n",
              "      <td>1</td>\n",
              "      <td>293</td>\n",
              "      <td>66</td>\n",
              "      <td>...</td>\n",
              "      <td>30</td>\n",
              "      <td>29</td>\n",
              "      <td>14</td>\n",
              "      <td>A</td>\n",
              "      <td>E</td>\n",
              "      <td>446</td>\n",
              "      <td>33</td>\n",
              "      <td>20</td>\n",
              "      <td>NaN</td>\n",
              "      <td>A</td>\n",
              "    </tr>\n",
              "    <tr>\n",
              "      <th>1</th>\n",
              "      <td>#NAME?</td>\n",
              "      <td>315</td>\n",
              "      <td>81</td>\n",
              "      <td>7</td>\n",
              "      <td>24</td>\n",
              "      <td>38</td>\n",
              "      <td>39</td>\n",
              "      <td>14</td>\n",
              "      <td>3449</td>\n",
              "      <td>835</td>\n",
              "      <td>...</td>\n",
              "      <td>321</td>\n",
              "      <td>414</td>\n",
              "      <td>375</td>\n",
              "      <td>N</td>\n",
              "      <td>W</td>\n",
              "      <td>632</td>\n",
              "      <td>43</td>\n",
              "      <td>10</td>\n",
              "      <td>475.0</td>\n",
              "      <td>N</td>\n",
              "    </tr>\n",
              "    <tr>\n",
              "      <th>2</th>\n",
              "      <td>#NAME?</td>\n",
              "      <td>479</td>\n",
              "      <td>130</td>\n",
              "      <td>18</td>\n",
              "      <td>66</td>\n",
              "      <td>72</td>\n",
              "      <td>76</td>\n",
              "      <td>3</td>\n",
              "      <td>1624</td>\n",
              "      <td>457</td>\n",
              "      <td>...</td>\n",
              "      <td>224</td>\n",
              "      <td>266</td>\n",
              "      <td>263</td>\n",
              "      <td>A</td>\n",
              "      <td>W</td>\n",
              "      <td>880</td>\n",
              "      <td>82</td>\n",
              "      <td>14</td>\n",
              "      <td>480.0</td>\n",
              "      <td>A</td>\n",
              "    </tr>\n",
              "    <tr>\n",
              "      <th>3</th>\n",
              "      <td>#NAME?</td>\n",
              "      <td>496</td>\n",
              "      <td>141</td>\n",
              "      <td>20</td>\n",
              "      <td>65</td>\n",
              "      <td>78</td>\n",
              "      <td>37</td>\n",
              "      <td>11</td>\n",
              "      <td>5628</td>\n",
              "      <td>1575</td>\n",
              "      <td>...</td>\n",
              "      <td>828</td>\n",
              "      <td>838</td>\n",
              "      <td>354</td>\n",
              "      <td>N</td>\n",
              "      <td>E</td>\n",
              "      <td>200</td>\n",
              "      <td>11</td>\n",
              "      <td>3</td>\n",
              "      <td>500.0</td>\n",
              "      <td>N</td>\n",
              "    </tr>\n",
              "    <tr>\n",
              "      <th>4</th>\n",
              "      <td>#NAME?</td>\n",
              "      <td>321</td>\n",
              "      <td>87</td>\n",
              "      <td>10</td>\n",
              "      <td>39</td>\n",
              "      <td>42</td>\n",
              "      <td>30</td>\n",
              "      <td>2</td>\n",
              "      <td>396</td>\n",
              "      <td>101</td>\n",
              "      <td>...</td>\n",
              "      <td>48</td>\n",
              "      <td>46</td>\n",
              "      <td>33</td>\n",
              "      <td>N</td>\n",
              "      <td>E</td>\n",
              "      <td>805</td>\n",
              "      <td>40</td>\n",
              "      <td>4</td>\n",
              "      <td>91.5</td>\n",
              "      <td>N</td>\n",
              "    </tr>\n",
              "  </tbody>\n",
              "</table>\n",
              "<p>5 rows × 21 columns</p>\n",
              "</div>\n",
              "    <div class=\"colab-df-buttons\">\n",
              "\n",
              "  <div class=\"colab-df-container\">\n",
              "    <button class=\"colab-df-convert\" onclick=\"convertToInteractive('df-3eead52e-9002-455c-a08d-d51648104cc7')\"\n",
              "            title=\"Convert this dataframe to an interactive table.\"\n",
              "            style=\"display:none;\">\n",
              "\n",
              "  <svg xmlns=\"http://www.w3.org/2000/svg\" height=\"24px\" viewBox=\"0 -960 960 960\">\n",
              "    <path d=\"M120-120v-720h720v720H120Zm60-500h600v-160H180v160Zm220 220h160v-160H400v160Zm0 220h160v-160H400v160ZM180-400h160v-160H180v160Zm440 0h160v-160H620v160ZM180-180h160v-160H180v160Zm440 0h160v-160H620v160Z\"/>\n",
              "  </svg>\n",
              "    </button>\n",
              "\n",
              "  <style>\n",
              "    .colab-df-container {\n",
              "      display:flex;\n",
              "      gap: 12px;\n",
              "    }\n",
              "\n",
              "    .colab-df-convert {\n",
              "      background-color: #E8F0FE;\n",
              "      border: none;\n",
              "      border-radius: 50%;\n",
              "      cursor: pointer;\n",
              "      display: none;\n",
              "      fill: #1967D2;\n",
              "      height: 32px;\n",
              "      padding: 0 0 0 0;\n",
              "      width: 32px;\n",
              "    }\n",
              "\n",
              "    .colab-df-convert:hover {\n",
              "      background-color: #E2EBFA;\n",
              "      box-shadow: 0px 1px 2px rgba(60, 64, 67, 0.3), 0px 1px 3px 1px rgba(60, 64, 67, 0.15);\n",
              "      fill: #174EA6;\n",
              "    }\n",
              "\n",
              "    .colab-df-buttons div {\n",
              "      margin-bottom: 4px;\n",
              "    }\n",
              "\n",
              "    [theme=dark] .colab-df-convert {\n",
              "      background-color: #3B4455;\n",
              "      fill: #D2E3FC;\n",
              "    }\n",
              "\n",
              "    [theme=dark] .colab-df-convert:hover {\n",
              "      background-color: #434B5C;\n",
              "      box-shadow: 0px 1px 3px 1px rgba(0, 0, 0, 0.15);\n",
              "      filter: drop-shadow(0px 1px 2px rgba(0, 0, 0, 0.3));\n",
              "      fill: #FFFFFF;\n",
              "    }\n",
              "  </style>\n",
              "\n",
              "    <script>\n",
              "      const buttonEl =\n",
              "        document.querySelector('#df-3eead52e-9002-455c-a08d-d51648104cc7 button.colab-df-convert');\n",
              "      buttonEl.style.display =\n",
              "        google.colab.kernel.accessAllowed ? 'block' : 'none';\n",
              "\n",
              "      async function convertToInteractive(key) {\n",
              "        const element = document.querySelector('#df-3eead52e-9002-455c-a08d-d51648104cc7');\n",
              "        const dataTable =\n",
              "          await google.colab.kernel.invokeFunction('convertToInteractive',\n",
              "                                                    [key], {});\n",
              "        if (!dataTable) return;\n",
              "\n",
              "        const docLinkHtml = 'Like what you see? Visit the ' +\n",
              "          '<a target=\"_blank\" href=https://colab.research.google.com/notebooks/data_table.ipynb>data table notebook</a>'\n",
              "          + ' to learn more about interactive tables.';\n",
              "        element.innerHTML = '';\n",
              "        dataTable['output_type'] = 'display_data';\n",
              "        await google.colab.output.renderOutput(dataTable, element);\n",
              "        const docLink = document.createElement('div');\n",
              "        docLink.innerHTML = docLinkHtml;\n",
              "        element.appendChild(docLink);\n",
              "      }\n",
              "    </script>\n",
              "  </div>\n",
              "\n",
              "\n",
              "<div id=\"df-f3911bc8-80d4-4be7-a251-16ac9f117b7c\">\n",
              "  <button class=\"colab-df-quickchart\" onclick=\"quickchart('df-f3911bc8-80d4-4be7-a251-16ac9f117b7c')\"\n",
              "            title=\"Suggest charts\"\n",
              "            style=\"display:none;\">\n",
              "\n",
              "<svg xmlns=\"http://www.w3.org/2000/svg\" height=\"24px\"viewBox=\"0 0 24 24\"\n",
              "     width=\"24px\">\n",
              "    <g>\n",
              "        <path d=\"M19 3H5c-1.1 0-2 .9-2 2v14c0 1.1.9 2 2 2h14c1.1 0 2-.9 2-2V5c0-1.1-.9-2-2-2zM9 17H7v-7h2v7zm4 0h-2V7h2v10zm4 0h-2v-4h2v4z\"/>\n",
              "    </g>\n",
              "</svg>\n",
              "  </button>\n",
              "\n",
              "<style>\n",
              "  .colab-df-quickchart {\n",
              "      --bg-color: #E8F0FE;\n",
              "      --fill-color: #1967D2;\n",
              "      --hover-bg-color: #E2EBFA;\n",
              "      --hover-fill-color: #174EA6;\n",
              "      --disabled-fill-color: #AAA;\n",
              "      --disabled-bg-color: #DDD;\n",
              "  }\n",
              "\n",
              "  [theme=dark] .colab-df-quickchart {\n",
              "      --bg-color: #3B4455;\n",
              "      --fill-color: #D2E3FC;\n",
              "      --hover-bg-color: #434B5C;\n",
              "      --hover-fill-color: #FFFFFF;\n",
              "      --disabled-bg-color: #3B4455;\n",
              "      --disabled-fill-color: #666;\n",
              "  }\n",
              "\n",
              "  .colab-df-quickchart {\n",
              "    background-color: var(--bg-color);\n",
              "    border: none;\n",
              "    border-radius: 50%;\n",
              "    cursor: pointer;\n",
              "    display: none;\n",
              "    fill: var(--fill-color);\n",
              "    height: 32px;\n",
              "    padding: 0;\n",
              "    width: 32px;\n",
              "  }\n",
              "\n",
              "  .colab-df-quickchart:hover {\n",
              "    background-color: var(--hover-bg-color);\n",
              "    box-shadow: 0 1px 2px rgba(60, 64, 67, 0.3), 0 1px 3px 1px rgba(60, 64, 67, 0.15);\n",
              "    fill: var(--button-hover-fill-color);\n",
              "  }\n",
              "\n",
              "  .colab-df-quickchart-complete:disabled,\n",
              "  .colab-df-quickchart-complete:disabled:hover {\n",
              "    background-color: var(--disabled-bg-color);\n",
              "    fill: var(--disabled-fill-color);\n",
              "    box-shadow: none;\n",
              "  }\n",
              "\n",
              "  .colab-df-spinner {\n",
              "    border: 2px solid var(--fill-color);\n",
              "    border-color: transparent;\n",
              "    border-bottom-color: var(--fill-color);\n",
              "    animation:\n",
              "      spin 1s steps(1) infinite;\n",
              "  }\n",
              "\n",
              "  @keyframes spin {\n",
              "    0% {\n",
              "      border-color: transparent;\n",
              "      border-bottom-color: var(--fill-color);\n",
              "      border-left-color: var(--fill-color);\n",
              "    }\n",
              "    20% {\n",
              "      border-color: transparent;\n",
              "      border-left-color: var(--fill-color);\n",
              "      border-top-color: var(--fill-color);\n",
              "    }\n",
              "    30% {\n",
              "      border-color: transparent;\n",
              "      border-left-color: var(--fill-color);\n",
              "      border-top-color: var(--fill-color);\n",
              "      border-right-color: var(--fill-color);\n",
              "    }\n",
              "    40% {\n",
              "      border-color: transparent;\n",
              "      border-right-color: var(--fill-color);\n",
              "      border-top-color: var(--fill-color);\n",
              "    }\n",
              "    60% {\n",
              "      border-color: transparent;\n",
              "      border-right-color: var(--fill-color);\n",
              "    }\n",
              "    80% {\n",
              "      border-color: transparent;\n",
              "      border-right-color: var(--fill-color);\n",
              "      border-bottom-color: var(--fill-color);\n",
              "    }\n",
              "    90% {\n",
              "      border-color: transparent;\n",
              "      border-bottom-color: var(--fill-color);\n",
              "    }\n",
              "  }\n",
              "</style>\n",
              "\n",
              "  <script>\n",
              "    async function quickchart(key) {\n",
              "      const quickchartButtonEl =\n",
              "        document.querySelector('#' + key + ' button');\n",
              "      quickchartButtonEl.disabled = true;  // To prevent multiple clicks.\n",
              "      quickchartButtonEl.classList.add('colab-df-spinner');\n",
              "      try {\n",
              "        const charts = await google.colab.kernel.invokeFunction(\n",
              "            'suggestCharts', [key], {});\n",
              "      } catch (error) {\n",
              "        console.error('Error during call to suggestCharts:', error);\n",
              "      }\n",
              "      quickchartButtonEl.classList.remove('colab-df-spinner');\n",
              "      quickchartButtonEl.classList.add('colab-df-quickchart-complete');\n",
              "    }\n",
              "    (() => {\n",
              "      let quickchartButtonEl =\n",
              "        document.querySelector('#df-f3911bc8-80d4-4be7-a251-16ac9f117b7c button');\n",
              "      quickchartButtonEl.style.display =\n",
              "        google.colab.kernel.accessAllowed ? 'block' : 'none';\n",
              "    })();\n",
              "  </script>\n",
              "</div>\n",
              "\n",
              "    </div>\n",
              "  </div>\n"
            ],
            "application/vnd.google.colaboratory.intrinsic+json": {
              "type": "dataframe",
              "variable_name": "hitters_df"
            }
          },
          "metadata": {},
          "execution_count": 4
        }
      ]
    },
    {
      "cell_type": "markdown",
      "source": [
        "First of all, we note that the Salary variable is missing for some of the players. The isnull() function can be used to identify the missing observations. It returns a vector of the same length as the input vector, with a TRUE value for any elements that are missing, and a FALSE value for non-missing elements. The sum() function can then be used to count all of the missing elements"
      ],
      "metadata": {
        "id": "21DgJTc42kpb"
      }
    },
    {
      "cell_type": "code",
      "source": [
        "print(\"Number of null values:\", hitters_df[\"Salary\"].isnull().sum())"
      ],
      "metadata": {
        "colab": {
          "base_uri": "https://localhost:8080/"
        },
        "id": "Zef1EEX82oxQ",
        "outputId": "11b60dcd-da06-4588-9982-8e003451b1c4"
      },
      "execution_count": 5,
      "outputs": [
        {
          "output_type": "stream",
          "name": "stdout",
          "text": [
            "Number of null values: 59\n"
          ]
        }
      ]
    },
    {
      "cell_type": "code",
      "source": [
        "# Print the dimensions of the original Hitters data (322 rows x 20 columns)\n",
        "print(\"Dimensions of original data:\", hitters_df.shape)"
      ],
      "metadata": {
        "colab": {
          "base_uri": "https://localhost:8080/"
        },
        "id": "3WMpfCtP23H7",
        "outputId": "f6277a0b-b98f-486c-9bbc-5576558be965"
      },
      "execution_count": 6,
      "outputs": [
        {
          "output_type": "stream",
          "name": "stdout",
          "text": [
            "Dimensions of original data: (322, 21)\n"
          ]
        }
      ]
    },
    {
      "cell_type": "code",
      "source": [
        "# Drop any rows the contain missing values, along with the player names\n",
        "hitters_df_clean = hitters_df.dropna().drop('Unnamed: 0', axis=1)\n",
        "print(hitters_df_clean)"
      ],
      "metadata": {
        "colab": {
          "base_uri": "https://localhost:8080/"
        },
        "id": "0q0ml_PK3FUL",
        "outputId": "b508b00a-aee4-4b3e-fc22-3e3fbcfaa94c"
      },
      "execution_count": 8,
      "outputs": [
        {
          "output_type": "stream",
          "name": "stdout",
          "text": [
            "     AtBat  Hits  HmRun  Runs  RBI  Walks  Years  CAtBat  CHits  CHmRun  \\\n",
            "1      315    81      7    24   38     39     14    3449    835      69   \n",
            "2      479   130     18    66   72     76      3    1624    457      63   \n",
            "3      496   141     20    65   78     37     11    5628   1575     225   \n",
            "4      321    87     10    39   42     30      2     396    101      12   \n",
            "5      594   169      4    74   51     35     11    4408   1133      19   \n",
            "..     ...   ...    ...   ...  ...    ...    ...     ...    ...     ...   \n",
            "317    497   127      7    65   48     37      5    2703    806      32   \n",
            "318    492   136      5    76   50     94     12    5511   1511      39   \n",
            "319    475   126      3    61   43     52      6    1700    433       7   \n",
            "320    573   144      9    85   60     78      8    3198    857      97   \n",
            "321    631   170      9    77   44     31     11    4908   1457      30   \n",
            "\n",
            "     CRuns  CRBI  CWalks League Division  PutOuts  Assists  Errors  Salary  \\\n",
            "1      321   414     375      N        W      632       43      10   475.0   \n",
            "2      224   266     263      A        W      880       82      14   480.0   \n",
            "3      828   838     354      N        E      200       11       3   500.0   \n",
            "4       48    46      33      N        E      805       40       4    91.5   \n",
            "5      501   336     194      A        W      282      421      25   750.0   \n",
            "..     ...   ...     ...    ...      ...      ...      ...     ...     ...   \n",
            "317    379   311     138      N        E      325        9       3   700.0   \n",
            "318    897   451     875      A        E      313      381      20   875.0   \n",
            "319    217    93     146      A        W       37      113       7   385.0   \n",
            "320    470   420     332      A        E     1314      131      12   960.0   \n",
            "321    775   357     249      A        W      408        4       3  1000.0   \n",
            "\n",
            "    NewLeague  \n",
            "1           N  \n",
            "2           A  \n",
            "3           N  \n",
            "4           N  \n",
            "5           A  \n",
            "..        ...  \n",
            "317         N  \n",
            "318         A  \n",
            "319         A  \n",
            "320         A  \n",
            "321         A  \n",
            "\n",
            "[263 rows x 20 columns]\n"
          ]
        }
      ]
    },
    {
      "cell_type": "code",
      "source": [
        " #Print the dimensions of the modified Hitters data (263 rows x 20 columns)\n",
        " print(\"Dimensions of modified data:\", hitters_df_clean.shape)"
      ],
      "metadata": {
        "colab": {
          "base_uri": "https://localhost:8080/"
        },
        "id": "qR_4HS_N3dAx",
        "outputId": "be3e4da0-d1f1-4b5b-83a2-1da11487e907"
      },
      "execution_count": 9,
      "outputs": [
        {
          "output_type": "stream",
          "name": "stdout",
          "text": [
            "Dimensions of modified data: (263, 20)\n"
          ]
        }
      ]
    },
    {
      "cell_type": "code",
      "source": [
        "# One last check: should return 0\n",
        "print(\"Number of null values:\", hitters_df_clean[\"Salary\"].isnull().sum())"
      ],
      "metadata": {
        "colab": {
          "base_uri": "https://localhost:8080/"
        },
        "id": "_RF53r6E3u24",
        "outputId": "0f4a6332-a588-4314-fa0e-9fbd3af75c46"
      },
      "execution_count": 10,
      "outputs": [
        {
          "output_type": "stream",
          "name": "stdout",
          "text": [
            "Number of null values: 0\n"
          ]
        }
      ]
    },
    {
      "cell_type": "code",
      "source": [
        "dummies = pd.get_dummies(hitters_df_clean[['League','Division','NewLeague']])\n",
        "y = hitters_df_clean.Salary\n",
        "\n",
        "# Drop the column with the independent variable (Salary), and columns for which we created dummy variables\n",
        "X_ = hitters_df_clean.drop(['Salary', 'League', 'Division', 'NewLeague'], axis=1).astype('float64')\n",
        "\n",
        "# Define the feature set X.\n",
        "X = pd.concat([X_, dummies[['League_N', 'Division_W', 'NewLeague_N']]], axis=1)"
      ],
      "metadata": {
        "id": "lOpjyAxU4Pxm"
      },
      "execution_count": 17,
      "outputs": []
    },
    {
      "cell_type": "markdown",
      "source": [
        "We can perform best subset selection by identifying the best model that contains a given number of predictors, where best is quantified using RSS. We'll define a helper function to outputs the best set of variables for each model size:"
      ],
      "metadata": {
        "id": "OsIWhDHq5fx8"
      }
    },
    {
      "cell_type": "code",
      "source": [
        "def processSubset(feature_set):\n",
        "    # Fit model on feature_set and calculate RSS\n",
        "    model = sm.OLS(y,X[list(feature_set)].astype('float'))\n",
        "    regr = model.fit()\n",
        "    return {\"model\":regr, \"RSS\":((regr.predict(X[list(feature_set)]) - y) ** 2).sum()}"
      ],
      "metadata": {
        "id": "jYQulz1H5gi6"
      },
      "execution_count": 21,
      "outputs": []
    },
    {
      "cell_type": "code",
      "source": [
        "def getBest(k):\n",
        "\n",
        "    tic = time.time()\n",
        "\n",
        "    results = []\n",
        "\n",
        "    for combo in itertools.combinations(X.columns, k):\n",
        "        results.append(processSubset(combo))\n",
        "\n",
        "    # Wrap everything up in a nice dataframe\n",
        "    models = pd.DataFrame(results)\n",
        "\n",
        "    # Choose the model with the highest RSS\n",
        "    best_model = models.loc[models['RSS'].argmin()]\n",
        "\n",
        "    toc = time.time()\n",
        "    print(\"Processed\", models.shape[0], \"models on\", k, \"predictors in\", (toc-tic), \"seconds.\")\n",
        "\n",
        "    # Return the best model, along with some other useful information about the model\n",
        "    return best_model"
      ],
      "metadata": {
        "id": "5_nJmBkz7GGN"
      },
      "execution_count": 19,
      "outputs": []
    },
    {
      "cell_type": "markdown",
      "source": [
        "This returns a DataFrame containing the best model that we generated, along with some extra information about the model. Now we want to call that function for each number of predictors  𝑘\n",
        " :"
      ],
      "metadata": {
        "id": "VYDogSRX7Z9a"
      }
    },
    {
      "cell_type": "code",
      "source": [
        "# Could take quite awhile to complete...\n",
        "\n",
        "models_best = pd.DataFrame(columns=[\"RSS\", \"model\"])\n",
        "\n",
        "tic = time.time()\n",
        "for i in range(1,8):\n",
        "    models_best.loc[i] = getBest(i)\n",
        "\n",
        "toc = time.time()\n",
        "print(\"Total elapsed time:\", (toc-tic), \"seconds.\")"
      ],
      "metadata": {
        "colab": {
          "base_uri": "https://localhost:8080/"
        },
        "id": "0IcPEfXu7eT5",
        "outputId": "4fb9288f-26d3-4748-cdd9-620669279f9c"
      },
      "execution_count": 22,
      "outputs": [
        {
          "output_type": "stream",
          "name": "stdout",
          "text": [
            "Processed 19 models on 1 predictors in 0.08019685745239258 seconds.\n",
            "Processed 171 models on 2 predictors in 0.4088740348815918 seconds.\n",
            "Processed 969 models on 3 predictors in 2.620697498321533 seconds.\n",
            "Processed 3876 models on 4 predictors in 11.460448980331421 seconds.\n",
            "Processed 11628 models on 5 predictors in 36.66340756416321 seconds.\n",
            "Processed 27132 models on 6 predictors in 88.38613629341125 seconds.\n",
            "Processed 50388 models on 7 predictors in 164.63382244110107 seconds.\n",
            "Total elapsed time: 305.2003548145294 seconds.\n"
          ]
        }
      ]
    },
    {
      "cell_type": "markdown",
      "source": [
        "Processed Models on Predictors: For example, \"Processed 19 models on 1 predictors in 0.105962 seconds\" means that 19 models each containing 1 predictor were fitted, and it took about 0.106 seconds to compute all these models."
      ],
      "metadata": {
        "id": "cRjwube0L7RI"
      }
    },
    {
      "cell_type": "markdown",
      "source": [
        "Now we have one big DataFrame that contains the best models we've generated along with their RSS:"
      ],
      "metadata": {
        "id": "P2S8rPDj9AE8"
      }
    },
    {
      "cell_type": "code",
      "source": [
        "models_best"
      ],
      "metadata": {
        "colab": {
          "base_uri": "https://localhost:8080/",
          "height": 269
        },
        "id": "Vw4tEGEE9BkS",
        "outputId": "7c3b0890-a616-4190-a984-c8ed963e2fa9"
      },
      "execution_count": 23,
      "outputs": [
        {
          "output_type": "execute_result",
          "data": {
            "text/plain": [
              "               RSS                                              model\n",
              "1  43213925.909868  <statsmodels.regression.linear_model.Regressio...\n",
              "2  30733054.433644  <statsmodels.regression.linear_model.Regressio...\n",
              "3  29410713.176731  <statsmodels.regression.linear_model.Regressio...\n",
              "4  27976782.522603  <statsmodels.regression.linear_model.Regressio...\n",
              "5  27187795.009508  <statsmodels.regression.linear_model.Regressio...\n",
              "6  26397720.512772  <statsmodels.regression.linear_model.Regressio...\n",
              "7  26064130.610341  <statsmodels.regression.linear_model.Regressio..."
            ],
            "text/html": [
              "\n",
              "  <div id=\"df-6ca76bb0-c6e1-4dab-9062-ae96a7d792c5\" class=\"colab-df-container\">\n",
              "    <div>\n",
              "<style scoped>\n",
              "    .dataframe tbody tr th:only-of-type {\n",
              "        vertical-align: middle;\n",
              "    }\n",
              "\n",
              "    .dataframe tbody tr th {\n",
              "        vertical-align: top;\n",
              "    }\n",
              "\n",
              "    .dataframe thead th {\n",
              "        text-align: right;\n",
              "    }\n",
              "</style>\n",
              "<table border=\"1\" class=\"dataframe\">\n",
              "  <thead>\n",
              "    <tr style=\"text-align: right;\">\n",
              "      <th></th>\n",
              "      <th>RSS</th>\n",
              "      <th>model</th>\n",
              "    </tr>\n",
              "  </thead>\n",
              "  <tbody>\n",
              "    <tr>\n",
              "      <th>1</th>\n",
              "      <td>43213925.909868</td>\n",
              "      <td>&lt;statsmodels.regression.linear_model.Regressio...</td>\n",
              "    </tr>\n",
              "    <tr>\n",
              "      <th>2</th>\n",
              "      <td>30733054.433644</td>\n",
              "      <td>&lt;statsmodels.regression.linear_model.Regressio...</td>\n",
              "    </tr>\n",
              "    <tr>\n",
              "      <th>3</th>\n",
              "      <td>29410713.176731</td>\n",
              "      <td>&lt;statsmodels.regression.linear_model.Regressio...</td>\n",
              "    </tr>\n",
              "    <tr>\n",
              "      <th>4</th>\n",
              "      <td>27976782.522603</td>\n",
              "      <td>&lt;statsmodels.regression.linear_model.Regressio...</td>\n",
              "    </tr>\n",
              "    <tr>\n",
              "      <th>5</th>\n",
              "      <td>27187795.009508</td>\n",
              "      <td>&lt;statsmodels.regression.linear_model.Regressio...</td>\n",
              "    </tr>\n",
              "    <tr>\n",
              "      <th>6</th>\n",
              "      <td>26397720.512772</td>\n",
              "      <td>&lt;statsmodels.regression.linear_model.Regressio...</td>\n",
              "    </tr>\n",
              "    <tr>\n",
              "      <th>7</th>\n",
              "      <td>26064130.610341</td>\n",
              "      <td>&lt;statsmodels.regression.linear_model.Regressio...</td>\n",
              "    </tr>\n",
              "  </tbody>\n",
              "</table>\n",
              "</div>\n",
              "    <div class=\"colab-df-buttons\">\n",
              "\n",
              "  <div class=\"colab-df-container\">\n",
              "    <button class=\"colab-df-convert\" onclick=\"convertToInteractive('df-6ca76bb0-c6e1-4dab-9062-ae96a7d792c5')\"\n",
              "            title=\"Convert this dataframe to an interactive table.\"\n",
              "            style=\"display:none;\">\n",
              "\n",
              "  <svg xmlns=\"http://www.w3.org/2000/svg\" height=\"24px\" viewBox=\"0 -960 960 960\">\n",
              "    <path d=\"M120-120v-720h720v720H120Zm60-500h600v-160H180v160Zm220 220h160v-160H400v160Zm0 220h160v-160H400v160ZM180-400h160v-160H180v160Zm440 0h160v-160H620v160ZM180-180h160v-160H180v160Zm440 0h160v-160H620v160Z\"/>\n",
              "  </svg>\n",
              "    </button>\n",
              "\n",
              "  <style>\n",
              "    .colab-df-container {\n",
              "      display:flex;\n",
              "      gap: 12px;\n",
              "    }\n",
              "\n",
              "    .colab-df-convert {\n",
              "      background-color: #E8F0FE;\n",
              "      border: none;\n",
              "      border-radius: 50%;\n",
              "      cursor: pointer;\n",
              "      display: none;\n",
              "      fill: #1967D2;\n",
              "      height: 32px;\n",
              "      padding: 0 0 0 0;\n",
              "      width: 32px;\n",
              "    }\n",
              "\n",
              "    .colab-df-convert:hover {\n",
              "      background-color: #E2EBFA;\n",
              "      box-shadow: 0px 1px 2px rgba(60, 64, 67, 0.3), 0px 1px 3px 1px rgba(60, 64, 67, 0.15);\n",
              "      fill: #174EA6;\n",
              "    }\n",
              "\n",
              "    .colab-df-buttons div {\n",
              "      margin-bottom: 4px;\n",
              "    }\n",
              "\n",
              "    [theme=dark] .colab-df-convert {\n",
              "      background-color: #3B4455;\n",
              "      fill: #D2E3FC;\n",
              "    }\n",
              "\n",
              "    [theme=dark] .colab-df-convert:hover {\n",
              "      background-color: #434B5C;\n",
              "      box-shadow: 0px 1px 3px 1px rgba(0, 0, 0, 0.15);\n",
              "      filter: drop-shadow(0px 1px 2px rgba(0, 0, 0, 0.3));\n",
              "      fill: #FFFFFF;\n",
              "    }\n",
              "  </style>\n",
              "\n",
              "    <script>\n",
              "      const buttonEl =\n",
              "        document.querySelector('#df-6ca76bb0-c6e1-4dab-9062-ae96a7d792c5 button.colab-df-convert');\n",
              "      buttonEl.style.display =\n",
              "        google.colab.kernel.accessAllowed ? 'block' : 'none';\n",
              "\n",
              "      async function convertToInteractive(key) {\n",
              "        const element = document.querySelector('#df-6ca76bb0-c6e1-4dab-9062-ae96a7d792c5');\n",
              "        const dataTable =\n",
              "          await google.colab.kernel.invokeFunction('convertToInteractive',\n",
              "                                                    [key], {});\n",
              "        if (!dataTable) return;\n",
              "\n",
              "        const docLinkHtml = 'Like what you see? Visit the ' +\n",
              "          '<a target=\"_blank\" href=https://colab.research.google.com/notebooks/data_table.ipynb>data table notebook</a>'\n",
              "          + ' to learn more about interactive tables.';\n",
              "        element.innerHTML = '';\n",
              "        dataTable['output_type'] = 'display_data';\n",
              "        await google.colab.output.renderOutput(dataTable, element);\n",
              "        const docLink = document.createElement('div');\n",
              "        docLink.innerHTML = docLinkHtml;\n",
              "        element.appendChild(docLink);\n",
              "      }\n",
              "    </script>\n",
              "  </div>\n",
              "\n",
              "\n",
              "<div id=\"df-910cd735-e9f9-48c4-a76f-6a184c98fd4a\">\n",
              "  <button class=\"colab-df-quickchart\" onclick=\"quickchart('df-910cd735-e9f9-48c4-a76f-6a184c98fd4a')\"\n",
              "            title=\"Suggest charts\"\n",
              "            style=\"display:none;\">\n",
              "\n",
              "<svg xmlns=\"http://www.w3.org/2000/svg\" height=\"24px\"viewBox=\"0 0 24 24\"\n",
              "     width=\"24px\">\n",
              "    <g>\n",
              "        <path d=\"M19 3H5c-1.1 0-2 .9-2 2v14c0 1.1.9 2 2 2h14c1.1 0 2-.9 2-2V5c0-1.1-.9-2-2-2zM9 17H7v-7h2v7zm4 0h-2V7h2v10zm4 0h-2v-4h2v4z\"/>\n",
              "    </g>\n",
              "</svg>\n",
              "  </button>\n",
              "\n",
              "<style>\n",
              "  .colab-df-quickchart {\n",
              "      --bg-color: #E8F0FE;\n",
              "      --fill-color: #1967D2;\n",
              "      --hover-bg-color: #E2EBFA;\n",
              "      --hover-fill-color: #174EA6;\n",
              "      --disabled-fill-color: #AAA;\n",
              "      --disabled-bg-color: #DDD;\n",
              "  }\n",
              "\n",
              "  [theme=dark] .colab-df-quickchart {\n",
              "      --bg-color: #3B4455;\n",
              "      --fill-color: #D2E3FC;\n",
              "      --hover-bg-color: #434B5C;\n",
              "      --hover-fill-color: #FFFFFF;\n",
              "      --disabled-bg-color: #3B4455;\n",
              "      --disabled-fill-color: #666;\n",
              "  }\n",
              "\n",
              "  .colab-df-quickchart {\n",
              "    background-color: var(--bg-color);\n",
              "    border: none;\n",
              "    border-radius: 50%;\n",
              "    cursor: pointer;\n",
              "    display: none;\n",
              "    fill: var(--fill-color);\n",
              "    height: 32px;\n",
              "    padding: 0;\n",
              "    width: 32px;\n",
              "  }\n",
              "\n",
              "  .colab-df-quickchart:hover {\n",
              "    background-color: var(--hover-bg-color);\n",
              "    box-shadow: 0 1px 2px rgba(60, 64, 67, 0.3), 0 1px 3px 1px rgba(60, 64, 67, 0.15);\n",
              "    fill: var(--button-hover-fill-color);\n",
              "  }\n",
              "\n",
              "  .colab-df-quickchart-complete:disabled,\n",
              "  .colab-df-quickchart-complete:disabled:hover {\n",
              "    background-color: var(--disabled-bg-color);\n",
              "    fill: var(--disabled-fill-color);\n",
              "    box-shadow: none;\n",
              "  }\n",
              "\n",
              "  .colab-df-spinner {\n",
              "    border: 2px solid var(--fill-color);\n",
              "    border-color: transparent;\n",
              "    border-bottom-color: var(--fill-color);\n",
              "    animation:\n",
              "      spin 1s steps(1) infinite;\n",
              "  }\n",
              "\n",
              "  @keyframes spin {\n",
              "    0% {\n",
              "      border-color: transparent;\n",
              "      border-bottom-color: var(--fill-color);\n",
              "      border-left-color: var(--fill-color);\n",
              "    }\n",
              "    20% {\n",
              "      border-color: transparent;\n",
              "      border-left-color: var(--fill-color);\n",
              "      border-top-color: var(--fill-color);\n",
              "    }\n",
              "    30% {\n",
              "      border-color: transparent;\n",
              "      border-left-color: var(--fill-color);\n",
              "      border-top-color: var(--fill-color);\n",
              "      border-right-color: var(--fill-color);\n",
              "    }\n",
              "    40% {\n",
              "      border-color: transparent;\n",
              "      border-right-color: var(--fill-color);\n",
              "      border-top-color: var(--fill-color);\n",
              "    }\n",
              "    60% {\n",
              "      border-color: transparent;\n",
              "      border-right-color: var(--fill-color);\n",
              "    }\n",
              "    80% {\n",
              "      border-color: transparent;\n",
              "      border-right-color: var(--fill-color);\n",
              "      border-bottom-color: var(--fill-color);\n",
              "    }\n",
              "    90% {\n",
              "      border-color: transparent;\n",
              "      border-bottom-color: var(--fill-color);\n",
              "    }\n",
              "  }\n",
              "</style>\n",
              "\n",
              "  <script>\n",
              "    async function quickchart(key) {\n",
              "      const quickchartButtonEl =\n",
              "        document.querySelector('#' + key + ' button');\n",
              "      quickchartButtonEl.disabled = true;  // To prevent multiple clicks.\n",
              "      quickchartButtonEl.classList.add('colab-df-spinner');\n",
              "      try {\n",
              "        const charts = await google.colab.kernel.invokeFunction(\n",
              "            'suggestCharts', [key], {});\n",
              "      } catch (error) {\n",
              "        console.error('Error during call to suggestCharts:', error);\n",
              "      }\n",
              "      quickchartButtonEl.classList.remove('colab-df-spinner');\n",
              "      quickchartButtonEl.classList.add('colab-df-quickchart-complete');\n",
              "    }\n",
              "    (() => {\n",
              "      let quickchartButtonEl =\n",
              "        document.querySelector('#df-910cd735-e9f9-48c4-a76f-6a184c98fd4a button');\n",
              "      quickchartButtonEl.style.display =\n",
              "        google.colab.kernel.accessAllowed ? 'block' : 'none';\n",
              "    })();\n",
              "  </script>\n",
              "</div>\n",
              "\n",
              "  <div id=\"id_12556f5c-8eb7-40b9-a4ec-a6de6174aa53\">\n",
              "    <style>\n",
              "      .colab-df-generate {\n",
              "        background-color: #E8F0FE;\n",
              "        border: none;\n",
              "        border-radius: 50%;\n",
              "        cursor: pointer;\n",
              "        display: none;\n",
              "        fill: #1967D2;\n",
              "        height: 32px;\n",
              "        padding: 0 0 0 0;\n",
              "        width: 32px;\n",
              "      }\n",
              "\n",
              "      .colab-df-generate:hover {\n",
              "        background-color: #E2EBFA;\n",
              "        box-shadow: 0px 1px 2px rgba(60, 64, 67, 0.3), 0px 1px 3px 1px rgba(60, 64, 67, 0.15);\n",
              "        fill: #174EA6;\n",
              "      }\n",
              "\n",
              "      [theme=dark] .colab-df-generate {\n",
              "        background-color: #3B4455;\n",
              "        fill: #D2E3FC;\n",
              "      }\n",
              "\n",
              "      [theme=dark] .colab-df-generate:hover {\n",
              "        background-color: #434B5C;\n",
              "        box-shadow: 0px 1px 3px 1px rgba(0, 0, 0, 0.15);\n",
              "        filter: drop-shadow(0px 1px 2px rgba(0, 0, 0, 0.3));\n",
              "        fill: #FFFFFF;\n",
              "      }\n",
              "    </style>\n",
              "    <button class=\"colab-df-generate\" onclick=\"generateWithVariable('models_best')\"\n",
              "            title=\"Generate code using this dataframe.\"\n",
              "            style=\"display:none;\">\n",
              "\n",
              "  <svg xmlns=\"http://www.w3.org/2000/svg\" height=\"24px\"viewBox=\"0 0 24 24\"\n",
              "       width=\"24px\">\n",
              "    <path d=\"M7,19H8.4L18.45,9,17,7.55,7,17.6ZM5,21V16.75L18.45,3.32a2,2,0,0,1,2.83,0l1.4,1.43a1.91,1.91,0,0,1,.58,1.4,1.91,1.91,0,0,1-.58,1.4L9.25,21ZM18.45,9,17,7.55Zm-12,3A5.31,5.31,0,0,0,4.9,8.1,5.31,5.31,0,0,0,1,6.5,5.31,5.31,0,0,0,4.9,4.9,5.31,5.31,0,0,0,6.5,1,5.31,5.31,0,0,0,8.1,4.9,5.31,5.31,0,0,0,12,6.5,5.46,5.46,0,0,0,6.5,12Z\"/>\n",
              "  </svg>\n",
              "    </button>\n",
              "    <script>\n",
              "      (() => {\n",
              "      const buttonEl =\n",
              "        document.querySelector('#id_12556f5c-8eb7-40b9-a4ec-a6de6174aa53 button.colab-df-generate');\n",
              "      buttonEl.style.display =\n",
              "        google.colab.kernel.accessAllowed ? 'block' : 'none';\n",
              "\n",
              "      buttonEl.onclick = () => {\n",
              "        google.colab.notebook.generateWithVariable('models_best');\n",
              "      }\n",
              "      })();\n",
              "    </script>\n",
              "  </div>\n",
              "\n",
              "    </div>\n",
              "  </div>\n"
            ],
            "application/vnd.google.colaboratory.intrinsic+json": {
              "type": "dataframe",
              "variable_name": "models_best",
              "repr_error": "0"
            }
          },
          "metadata": {},
          "execution_count": 23
        }
      ]
    },
    {
      "cell_type": "markdown",
      "source": [
        "Best Model Information\n",
        "\n",
        "This set of results provides details on the performance of the best model selected for each number of predictors:\n",
        "\n",
        "RSS (Residual Sum of Squares): This metric measures the amount of variance that is not explained by the model. A lower RSS indicates a model that better fits the data.\n",
        "\n",
        "Model Object: This indicates the specific model that was chosen as the best for each number of predictors. It's represented as a model object from the statsmodels library, which contains all the statistical details about the model.\n",
        "\n",
        "Rows Indexed by Number of Predictors: Each row represents the best model using a specific number of predictors. For example, the row indexed by 1 shows the best model using 1 predictor, with its RSS and the model object itself."
      ],
      "metadata": {
        "id": "NBJZEZafLxRL"
      }
    },
    {
      "cell_type": "markdown",
      "source": [
        "If we want to access the details of each model, no problem! We can get a full rundown of a single model using the summary() function:"
      ],
      "metadata": {
        "id": "u7gVOlw89yKB"
      }
    },
    {
      "cell_type": "code",
      "source": [
        "print(models_best.loc[7,\"model\"].summary())"
      ],
      "metadata": {
        "colab": {
          "base_uri": "https://localhost:8080/"
        },
        "id": "T72Glu_Y90Js",
        "outputId": "661eed75-0abe-41bc-88fc-3e11086c181d"
      },
      "execution_count": 24,
      "outputs": [
        {
          "output_type": "stream",
          "name": "stdout",
          "text": [
            "                                 OLS Regression Results                                \n",
            "=======================================================================================\n",
            "Dep. Variable:                 Salary   R-squared (uncentered):                   0.798\n",
            "Model:                            OLS   Adj. R-squared (uncentered):              0.792\n",
            "Method:                 Least Squares   F-statistic:                              144.2\n",
            "Date:                Wed, 08 May 2024   Prob (F-statistic):                    4.76e-85\n",
            "Time:                        02:10:45   Log-Likelihood:                         -1885.9\n",
            "No. Observations:                 263   AIC:                                      3786.\n",
            "Df Residuals:                     256   BIC:                                      3811.\n",
            "Df Model:                           7                                                  \n",
            "Covariance Type:            nonrobust                                                  \n",
            "==============================================================================\n",
            "                 coef    std err          t      P>|t|      [0.025      0.975]\n",
            "------------------------------------------------------------------------------\n",
            "Hits           1.6800      0.490      3.426      0.001       0.714       2.646\n",
            "Walks          3.4000      1.196      2.843      0.005       1.045       5.755\n",
            "CAtBat        -0.3288      0.090     -3.665      0.000      -0.506      -0.152\n",
            "CHits          1.3470      0.312      4.316      0.000       0.732       1.962\n",
            "CHmRun         1.3494      0.415      3.248      0.001       0.531       2.167\n",
            "PutOuts        0.2482      0.074      3.336      0.001       0.102       0.395\n",
            "Division_W  -111.9438     36.786     -3.043      0.003    -184.386     -39.502\n",
            "==============================================================================\n",
            "Omnibus:                      108.568   Durbin-Watson:                   2.008\n",
            "Prob(Omnibus):                  0.000   Jarque-Bera (JB):              808.968\n",
            "Skew:                           1.457   Prob(JB):                    2.16e-176\n",
            "Kurtosis:                      11.082   Cond. No.                     6.81e+03\n",
            "==============================================================================\n",
            "\n",
            "Notes:\n",
            "[1] R² is computed without centering (uncentered) since the model does not contain a constant.\n",
            "[2] Standard Errors assume that the covariance matrix of the errors is correctly specified.\n",
            "[3] The condition number is large, 6.81e+03. This might indicate that there are\n",
            "strong multicollinearity or other numerical problems.\n"
          ]
        }
      ]
    },
    {
      "cell_type": "markdown",
      "source": [
        "OLS regression model you are examining, the null hypothesis typically represents a \"no effect\" or \"zero effect\" assumption. For each predictor in the model, the null hypothesis states that the predictor's coefficient is zero, meaning that the predictor has no impact on the dependent variable"
      ],
      "metadata": {
        "id": "YeDsVgYwBIOW"
      }
    },
    {
      "cell_type": "markdown",
      "source": [
        "**Null Hypothesis (H0)** for Hits: The coefficient of Hits is zero, which means that Hits has no effect on Salary.\n",
        "\n",
        "**Alternative Hypothesis (H1)** for Hits: The coefficient of Hits is not zero, implying that Hits does have an effect on Salary."
      ],
      "metadata": {
        "id": "odB59edTBryF"
      }
    },
    {
      "cell_type": "markdown",
      "source": [
        "P>|t| = 0.001 for Hits: This p-value is very low and typically much less than any common significance level (e.g., 0.05 or 0.01). Therefore, you reject the null hypothesis that the coefficient for Hits is zero. There is strong evidence to suggest that Hits has a significant positive effect on Salary"
      ],
      "metadata": {
        "id": "g3oCzkUABXn5"
      }
    },
    {
      "cell_type": "markdown",
      "source": [
        "In summary, all these statistical outputs indicate that Hits is a significant predictor of Salary. The coefficient of 1.6800 suggests a positive relationship: as Hits increases, so does Salary, at least within the context of the data and model used."
      ],
      "metadata": {
        "id": "jyfdK1r0B5MD"
      }
    },
    {
      "cell_type": "code",
      "source": [
        "print(getBest(17)[\"model\"].summary())"
      ],
      "metadata": {
        "colab": {
          "base_uri": "https://localhost:8080/"
        },
        "id": "roGZ2JvJDt53",
        "outputId": "a1ed2d52-18d5-4a98-9426-fefbec866f2c"
      },
      "execution_count": 26,
      "outputs": [
        {
          "output_type": "stream",
          "name": "stdout",
          "text": [
            "Processed 171 models on 17 predictors in 0.6735725402832031 seconds.\n",
            "                                 OLS Regression Results                                \n",
            "=======================================================================================\n",
            "Dep. Variable:                 Salary   R-squared (uncentered):                   0.810\n",
            "Model:                            OLS   Adj. R-squared (uncentered):              0.796\n",
            "Method:                 Least Squares   F-statistic:                              61.54\n",
            "Date:                Wed, 08 May 2024   Prob (F-statistic):                    2.25e-78\n",
            "Time:                        02:39:37   Log-Likelihood:                         -1878.0\n",
            "No. Observations:                 263   AIC:                                      3790.\n",
            "Df Residuals:                     246   BIC:                                      3851.\n",
            "Df Model:                          17                                                  \n",
            "Covariance Type:            nonrobust                                                  \n",
            "==============================================================================\n",
            "                 coef    std err          t      P>|t|      [0.025      0.975]\n",
            "------------------------------------------------------------------------------\n",
            "AtBat         -1.6165      0.594     -2.720      0.007      -2.787      -0.446\n",
            "Hits           7.0221      2.302      3.050      0.003       2.487      11.557\n",
            "HmRun          3.8634      5.542      0.697      0.486      -7.052      14.779\n",
            "Runs          -2.2599      2.816     -0.803      0.423      -7.806       3.286\n",
            "RBI           -1.0024      2.485     -0.403      0.687      -5.897       3.892\n",
            "Walks          6.1056      1.811      3.371      0.001       2.538       9.673\n",
            "Years          9.6389     10.071      0.957      0.339     -10.197      29.475\n",
            "CAtBat        -0.2033      0.131     -1.557      0.121      -0.461       0.054\n",
            "CHits          0.1715      0.488      0.352      0.725      -0.789       1.132\n",
            "CRuns          1.4691      0.564      2.606      0.010       0.359       2.579\n",
            "CRBI           0.7106      0.250      2.841      0.005       0.218       1.203\n",
            "CWalks        -0.7754      0.315     -2.463      0.014      -1.395      -0.155\n",
            "PutOuts        0.2860      0.077      3.696      0.000       0.134       0.438\n",
            "Assists        0.3172      0.218      1.454      0.147      -0.112       0.747\n",
            "Errors        -1.9863      4.316     -0.460      0.646     -10.487       6.514\n",
            "League_N      66.4330     39.289      1.691      0.092     -10.954     143.820\n",
            "Division_W   -97.3188     38.927     -2.500      0.013    -173.991     -20.646\n",
            "==============================================================================\n",
            "Omnibus:                       96.301   Durbin-Watson:                   2.019\n",
            "Prob(Omnibus):                  0.000   Jarque-Bera (JB):              617.571\n",
            "Skew:                           1.306   Prob(JB):                    7.88e-135\n",
            "Kurtosis:                      10.038   Cond. No.                     7.67e+03\n",
            "==============================================================================\n",
            "\n",
            "Notes:\n",
            "[1] R² is computed without centering (uncentered) since the model does not contain a constant.\n",
            "[2] Standard Errors assume that the covariance matrix of the errors is correctly specified.\n",
            "[3] The condition number is large, 7.67e+03. This might indicate that there are\n",
            "strong multicollinearity or other numerical problems.\n"
          ]
        }
      ]
    },
    {
      "cell_type": "markdown",
      "source": [
        "Rather than letting the results of our call to the summary() function print to the screen, we can access just the parts we need using the model's attributes. For example, if we want the  𝑅2\n",
        "  value:"
      ],
      "metadata": {
        "id": "5uty7y7pFSa7"
      }
    },
    {
      "cell_type": "code",
      "source": [
        "models_best.loc[2, \"model\"].rsquared"
      ],
      "metadata": {
        "colab": {
          "base_uri": "https://localhost:8080/"
        },
        "id": "kaTA30kRFULe",
        "outputId": "48999306-75c1-4ab2-ea8a-e07bac920144"
      },
      "execution_count": 27,
      "outputs": [
        {
          "output_type": "execute_result",
          "data": {
            "text/plain": [
              "0.7614950002332872"
            ]
          },
          "metadata": {},
          "execution_count": 27
        }
      ]
    },
    {
      "cell_type": "code",
      "source": [
        "# Gets the second element from each row ('model') and pulls out its rsquared attribute\n",
        "models_best.apply(lambda row: row[1].rsquared, axis=1)"
      ],
      "metadata": {
        "colab": {
          "base_uri": "https://localhost:8080/"
        },
        "id": "K_opi8q9JrGK",
        "outputId": "a1887179-0244-4e05-f167-0da51f424897"
      },
      "execution_count": 28,
      "outputs": [
        {
          "output_type": "execute_result",
          "data": {
            "text/plain": [
              "1    0.664637\n",
              "2    0.761495\n",
              "3    0.771757\n",
              "4    0.782885\n",
              "5    0.789008\n",
              "6    0.795140\n",
              "7    0.797728\n",
              "dtype: float64"
            ]
          },
          "metadata": {},
          "execution_count": 28
        }
      ]
    },
    {
      "cell_type": "markdown",
      "source": [
        "As you can see from the values, the R-squared value generally increases as more predictors are added to the model. This suggests that models with more predictors are explaining a higher proportion of the variance in the dependent variable:\n",
        "\n",
        "For 1 predictor: The model explains about 66.46% of the variance.\n",
        "\n",
        "For 2 predictors: The explanation increases to about 76.15%.\n",
        "\n",
        "For 3 predictors and beyond, the explanation keeps improving, reaching up to about 79.77% with 7 predictors.\n",
        "\n",
        "This output is useful for assessing the effectiveness of the models. Higher R-squared values generally suggest a model that better fits the data. However, it's also important to consider the potential for overfitting when adding more predictors, as well as other metrics like Adjusted R-squared, which adjusts the statistic based on the number of predictors and the complexity of the model.\n",
        "\n",
        "\n",
        "---\n",
        "\n"
      ],
      "metadata": {
        "id": "xkQfH59sMEd5"
      }
    },
    {
      "cell_type": "markdown",
      "source": [
        "Plotting RSS, adjusted  𝑅2\n",
        " , AIC, and BIC for all of the models at once will help us decide which model to select. Note the type=\"l\" option tells R to connect the plotted points with lines:"
      ],
      "metadata": {
        "id": "a89Fc7JsMT4B"
      }
    },
    {
      "cell_type": "code",
      "source": [
        "plt.figure(figsize=(20,10))\n",
        "plt.rcParams.update({'font.size': 18, 'lines.markersize': 10})\n",
        "\n",
        "# Set up a 2x2 grid so we can look at 4 plots at once\n",
        "plt.subplot(2, 2, 1)\n",
        "\n",
        "# We will now plot a red dot to indicate the model with the largest adjusted R^2 statistic.\n",
        "# The argmax() function can be used to identify the location of the maximum point of a vector\n",
        "plt.plot(models_best[\"RSS\"])\n",
        "plt.xlabel('# Predictors')\n",
        "plt.ylabel('RSS')\n",
        "\n",
        "# We will now plot a red dot to indicate the model with the largest adjusted R^2 statistic.\n",
        "# The argmax() function can be used to identify the location of the maximum point of a vector\n",
        "\n",
        "rsquared_adj = models_best.apply(lambda row: row[1].rsquared_adj, axis=1)\n",
        "\n",
        "plt.subplot(2, 2, 2)\n",
        "plt.plot(rsquared_adj)\n",
        "plt.plot(rsquared_adj.argmax()+1, rsquared_adj.max(), \"or\")\n",
        "plt.xlabel('# Predictors')\n",
        "plt.ylabel('adjusted rsquared')\n",
        "\n",
        "# We'll do the same for AIC and BIC, this time looking for the models with the SMALLEST statistic\n",
        "aic = models_best.apply(lambda row: row[1].aic, axis=1)\n",
        "\n",
        "plt.subplot(2, 2, 3)\n",
        "plt.plot(aic)\n",
        "plt.plot(aic.argmin()+1, aic.min(), \"or\")\n",
        "plt.xlabel('# Predictors')\n",
        "plt.ylabel('AIC')\n",
        "\n",
        "bic = models_best.apply(lambda row: row[1].bic, axis=1)\n",
        "\n",
        "plt.subplot(2, 2, 4)\n",
        "plt.plot(bic)\n",
        "plt.plot(bic.argmin()+1, bic.min(), \"or\")\n",
        "plt.xlabel('# Predictors')\n",
        "plt.ylabel('BIC')"
      ],
      "metadata": {
        "colab": {
          "base_uri": "https://localhost:8080/",
          "height": 774
        },
        "id": "XRZibr77MKR1",
        "outputId": "9f585d4c-af09-46a4-e745-664fb1bbe115"
      },
      "execution_count": 29,
      "outputs": [
        {
          "output_type": "execute_result",
          "data": {
            "text/plain": [
              "Text(0, 0.5, 'BIC')"
            ]
          },
          "metadata": {},
          "execution_count": 29
        },
        {
          "output_type": "display_data",
          "data": {
            "text/plain": [
              "<Figure size 2000x1000 with 4 Axes>"
            ],
            "image/png": "[encoded data removed]"
          },
          "metadata": {}
        }
      ]
    },
    {
      "cell_type": "markdown",
      "source": [
        "Recall that in the second step of our selection process, we narrowed the field down to just one model on any  𝑘<=𝑝\n",
        "  predictors. We see that according to BIC, the best performer is the model with 6 variables. According to AIC and adjusted  𝑅2\n",
        "  something a bit more complex might be better. Again, no one measure is going to give us an entirely accurate picture... but they all agree that a model with 5 or fewer predictors is insufficient."
      ],
      "metadata": {
        "id": "zh_XH73aNAby"
      }
    },
    {
      "cell_type": "markdown",
      "source": [
        "**Example: Forward Selection**"
      ],
      "metadata": {
        "id": "zQR9NXk3NG6A"
      }
    },
    {
      "cell_type": "code",
      "source": [
        "def forward(predictors):\n",
        "\n",
        "    # Pull out predictors we still need to process\n",
        "    remaining_predictors = [p for p in X.columns if p not in predictors]\n",
        "\n",
        "    tic = time.time()\n",
        "\n",
        "    results = []\n",
        "\n",
        "    for p in remaining_predictors:\n",
        "        results.append(processSubset(predictors+[p]))\n",
        "\n",
        "    # Wrap everything up in a nice dataframe\n",
        "    models = pd.DataFrame(results)\n",
        "\n",
        "    # Choose the model with the highest RSS\n",
        "    best_model = models.loc[models['RSS'].argmin()]\n",
        "\n",
        "    toc = time.time()\n",
        "    print(\"Processed \", models.shape[0], \"models on\", len(predictors)+1, \"predictors in\", (toc-tic), \"seconds.\")\n",
        "\n",
        "    # Return the best model, along with some other useful information about the model\n",
        "    return best_model"
      ],
      "metadata": {
        "id": "1g-wFvNPNR5d"
      },
      "execution_count": 30,
      "outputs": []
    },
    {
      "cell_type": "code",
      "source": [
        "models_fwd = pd.DataFrame(columns=[\"RSS\", \"model\"])\n",
        "\n",
        "tic = time.time()\n",
        "predictors = []\n",
        "\n",
        "for i in range(1,len(X.columns)+1):\n",
        "    models_fwd.loc[i] = forward(predictors)\n",
        "    predictors = models_fwd.loc[i][\"model\"].model.exog_names\n",
        "\n",
        "toc = time.time()\n",
        "print(\"Total elapsed time:\", (toc-tic), \"seconds.\")"
      ],
      "metadata": {
        "colab": {
          "base_uri": "https://localhost:8080/"
        },
        "id": "Xufg5fnyNjln",
        "outputId": "1385267c-a795-4ad8-eca9-801bd157da09"
      },
      "execution_count": 31,
      "outputs": [
        {
          "output_type": "stream",
          "name": "stdout",
          "text": [
            "Processed  19 models on 1 predictors in 0.1505424976348877 seconds.\n",
            "Processed  18 models on 2 predictors in 0.10416102409362793 seconds.\n",
            "Processed  17 models on 3 predictors in 0.19945168495178223 seconds.\n",
            "Processed  16 models on 4 predictors in 0.1510329246520996 seconds.\n",
            "Processed  15 models on 5 predictors in 0.3355998992919922 seconds.\n",
            "Processed  14 models on 6 predictors in 0.29537272453308105 seconds.\n",
            "Processed  13 models on 7 predictors in 0.2293252944946289 seconds.\n",
            "Processed  12 models on 8 predictors in 0.30617666244506836 seconds.\n",
            "Processed  11 models on 9 predictors in 0.2505040168762207 seconds.\n",
            "Processed  10 models on 10 predictors in 0.24794840812683105 seconds.\n",
            "Processed  9 models on 11 predictors in 0.13663291931152344 seconds.\n",
            "Processed  8 models on 12 predictors in 0.06752562522888184 seconds.\n",
            "Processed  7 models on 13 predictors in 0.0417630672454834 seconds.\n",
            "Processed  6 models on 14 predictors in 0.03711509704589844 seconds.\n",
            "Processed  5 models on 15 predictors in 0.03039264678955078 seconds.\n",
            "Processed  4 models on 16 predictors in 0.023421049118041992 seconds.\n",
            "Processed  3 models on 17 predictors in 0.017880678176879883 seconds.\n",
            "Processed  2 models on 18 predictors in 0.03641390800476074 seconds.\n",
            "Processed  1 models on 19 predictors in 0.018468856811523438 seconds.\n",
            "Total elapsed time: 2.9456787109375 seconds.\n"
          ]
        }
      ]
    },
    {
      "cell_type": "code",
      "source": [
        "print(models_fwd.loc[1, \"model\"].summary())\n",
        "print(models_fwd.loc[2, \"model\"].summary())"
      ],
      "metadata": {
        "colab": {
          "base_uri": "https://localhost:8080/"
        },
        "id": "8xjsbc6cNzRs",
        "outputId": "ba19ea63-5a8c-4741-8fa3-387c8d4d8087"
      },
      "execution_count": 32,
      "outputs": [
        {
          "output_type": "stream",
          "name": "stdout",
          "text": [
            "                                 OLS Regression Results                                \n",
            "=======================================================================================\n",
            "Dep. Variable:                 Salary   R-squared (uncentered):                   0.665\n",
            "Model:                            OLS   Adj. R-squared (uncentered):              0.663\n",
            "Method:                 Least Squares   F-statistic:                              519.2\n",
            "Date:                Wed, 08 May 2024   Prob (F-statistic):                    4.20e-64\n",
            "Time:                        03:20:11   Log-Likelihood:                         -1952.4\n",
            "No. Observations:                 263   AIC:                                      3907.\n",
            "Df Residuals:                     262   BIC:                                      3910.\n",
            "Df Model:                           1                                                  \n",
            "Covariance Type:            nonrobust                                                  \n",
            "==============================================================================\n",
            "                 coef    std err          t      P>|t|      [0.025      0.975]\n",
            "------------------------------------------------------------------------------\n",
            "Hits           4.8833      0.214     22.787      0.000       4.461       5.305\n",
            "==============================================================================\n",
            "Omnibus:                       90.075   Durbin-Watson:                   1.949\n",
            "Prob(Omnibus):                  0.000   Jarque-Bera (JB):              293.080\n",
            "Skew:                           1.469   Prob(JB):                     2.28e-64\n",
            "Kurtosis:                       7.256   Cond. No.                         1.00\n",
            "==============================================================================\n",
            "\n",
            "Notes:\n",
            "[1] R² is computed without centering (uncentered) since the model does not contain a constant.\n",
            "[2] Standard Errors assume that the covariance matrix of the errors is correctly specified.\n",
            "                                 OLS Regression Results                                \n",
            "=======================================================================================\n",
            "Dep. Variable:                 Salary   R-squared (uncentered):                   0.761\n",
            "Model:                            OLS   Adj. R-squared (uncentered):              0.760\n",
            "Method:                 Least Squares   F-statistic:                              416.7\n",
            "Date:                Wed, 08 May 2024   Prob (F-statistic):                    5.80e-82\n",
            "Time:                        03:20:12   Log-Likelihood:                         -1907.6\n",
            "No. Observations:                 263   AIC:                                      3819.\n",
            "Df Residuals:                     261   BIC:                                      3826.\n",
            "Df Model:                           2                                                  \n",
            "Covariance Type:            nonrobust                                                  \n",
            "==============================================================================\n",
            "                 coef    std err          t      P>|t|      [0.025      0.975]\n",
            "------------------------------------------------------------------------------\n",
            "Hits           2.9538      0.261     11.335      0.000       2.441       3.467\n",
            "CRBI           0.6788      0.066     10.295      0.000       0.549       0.809\n",
            "==============================================================================\n",
            "Omnibus:                      117.551   Durbin-Watson:                   1.933\n",
            "Prob(Omnibus):                  0.000   Jarque-Bera (JB):              654.612\n",
            "Skew:                           1.729   Prob(JB):                    7.12e-143\n",
            "Kurtosis:                       9.912   Cond. No.                         5.88\n",
            "==============================================================================\n",
            "\n",
            "Notes:\n",
            "[1] R² is computed without centering (uncentered) since the model does not contain a constant.\n",
            "[2] Standard Errors assume that the covariance matrix of the errors is correctly specified.\n"
          ]
        }
      ]
    },
    {
      "cell_type": "markdown",
      "source": [
        "We see that using forward stepwise selection, the best one-variable model contains only Hits, and the best two-variable model additionally includes CRBI. Let's see how the models stack up against best subset selection:"
      ],
      "metadata": {
        "id": "0cIg57eEOHRG"
      }
    },
    {
      "cell_type": "code",
      "source": [
        "print(models_best.loc[6, \"model\"].summary())\n",
        "print(models_fwd.loc[6, \"model\"].summary())"
      ],
      "metadata": {
        "colab": {
          "base_uri": "https://localhost:8080/"
        },
        "id": "2MFWBJRDONHu",
        "outputId": "ab3c4f4e-b57e-4908-b2ee-587ba4c6fb03"
      },
      "execution_count": 33,
      "outputs": [
        {
          "output_type": "stream",
          "name": "stdout",
          "text": [
            "                                 OLS Regression Results                                \n",
            "=======================================================================================\n",
            "Dep. Variable:                 Salary   R-squared (uncentered):                   0.795\n",
            "Model:                            OLS   Adj. R-squared (uncentered):              0.790\n",
            "Method:                 Least Squares   F-statistic:                              166.3\n",
            "Date:                Wed, 08 May 2024   Prob (F-statistic):                    1.79e-85\n",
            "Time:                        03:22:00   Log-Likelihood:                         -1887.6\n",
            "No. Observations:                 263   AIC:                                      3787.\n",
            "Df Residuals:                     257   BIC:                                      3809.\n",
            "Df Model:                           6                                                  \n",
            "Covariance Type:            nonrobust                                                  \n",
            "==============================================================================\n",
            "                 coef    std err          t      P>|t|      [0.025      0.975]\n",
            "------------------------------------------------------------------------------\n",
            "AtBat         -1.5488      0.477     -3.248      0.001      -2.488      -0.610\n",
            "Hits           7.0190      1.613      4.352      0.000       3.843      10.195\n",
            "Walks          3.7513      1.212      3.095      0.002       1.364       6.138\n",
            "CRBI           0.6544      0.064     10.218      0.000       0.528       0.781\n",
            "PutOuts        0.2703      0.075      3.614      0.000       0.123       0.418\n",
            "Division_W  -104.4513     37.661     -2.773      0.006    -178.615     -30.287\n",
            "==============================================================================\n",
            "Omnibus:                      106.414   Durbin-Watson:                   1.986\n",
            "Prob(Omnibus):                  0.000   Jarque-Bera (JB):              768.429\n",
            "Skew:                           1.433   Prob(JB):                    1.37e-167\n",
            "Kurtosis:                      10.869   Cond. No.                     1.29e+03\n",
            "==============================================================================\n",
            "\n",
            "Notes:\n",
            "[1] R² is computed without centering (uncentered) since the model does not contain a constant.\n",
            "[2] Standard Errors assume that the covariance matrix of the errors is correctly specified.\n",
            "[3] The condition number is large, 1.29e+03. This might indicate that there are\n",
            "strong multicollinearity or other numerical problems.\n",
            "                                 OLS Regression Results                                \n",
            "=======================================================================================\n",
            "Dep. Variable:                 Salary   R-squared (uncentered):                   0.795\n",
            "Model:                            OLS   Adj. R-squared (uncentered):              0.790\n",
            "Method:                 Least Squares   F-statistic:                              166.3\n",
            "Date:                Wed, 08 May 2024   Prob (F-statistic):                    1.79e-85\n",
            "Time:                        03:22:00   Log-Likelihood:                         -1887.6\n",
            "No. Observations:                 263   AIC:                                      3787.\n",
            "Df Residuals:                     257   BIC:                                      3809.\n",
            "Df Model:                           6                                                  \n",
            "Covariance Type:            nonrobust                                                  \n",
            "==============================================================================\n",
            "                 coef    std err          t      P>|t|      [0.025      0.975]\n",
            "------------------------------------------------------------------------------\n",
            "Hits           7.0190      1.613      4.352      0.000       3.843      10.195\n",
            "CRBI           0.6544      0.064     10.218      0.000       0.528       0.781\n",
            "Division_W  -104.4513     37.661     -2.773      0.006    -178.615     -30.287\n",
            "PutOuts        0.2703      0.075      3.614      0.000       0.123       0.418\n",
            "AtBat         -1.5488      0.477     -3.248      0.001      -2.488      -0.610\n",
            "Walks          3.7513      1.212      3.095      0.002       1.364       6.138\n",
            "==============================================================================\n",
            "Omnibus:                      106.414   Durbin-Watson:                   1.986\n",
            "Prob(Omnibus):                  0.000   Jarque-Bera (JB):              768.429\n",
            "Skew:                           1.433   Prob(JB):                    1.37e-167\n",
            "Kurtosis:                      10.869   Cond. No.                     1.29e+03\n",
            "==============================================================================\n",
            "\n",
            "Notes:\n",
            "[1] R² is computed without centering (uncentered) since the model does not contain a constant.\n",
            "[2] Standard Errors assume that the covariance matrix of the errors is correctly specified.\n",
            "[3] The condition number is large, 1.29e+03. This might indicate that there are\n",
            "strong multicollinearity or other numerical problems.\n"
          ]
        }
      ]
    },
    {
      "cell_type": "markdown",
      "source": [
        "**Example: Backward Selection**"
      ],
      "metadata": {
        "id": "DfxHhpHqOfra"
      }
    },
    {
      "cell_type": "code",
      "source": [
        "def backward(predictors):\n",
        "\n",
        "    tic = time.time()\n",
        "\n",
        "    results = []\n",
        "\n",
        "    for combo in itertools.combinations(predictors, len(predictors)-1):\n",
        "        results.append(processSubset(combo))\n",
        "\n",
        "    # Wrap everything up in a nice dataframe\n",
        "    models = pd.DataFrame(results)\n",
        "\n",
        "    # Choose the model with the highest RSS\n",
        "    best_model = models.loc[models['RSS'].argmin()]\n",
        "\n",
        "    toc = time.time()\n",
        "    print(\"Processed \", models.shape[0], \"models on\", len(predictors)-1, \"predictors in\", (toc-tic), \"seconds.\")\n",
        "\n",
        "    # Return the best model, along with some other useful information about the model\n",
        "    return best_model"
      ],
      "metadata": {
        "id": "9d3ixmBROlSe"
      },
      "execution_count": 34,
      "outputs": []
    },
    {
      "cell_type": "code",
      "source": [
        "models_bwd = pd.DataFrame(columns=[\"RSS\", \"model\"], index = range(1,len(X.columns)))\n",
        "\n",
        "tic = time.time()\n",
        "predictors = X.columns\n",
        "\n",
        "while(len(predictors) > 1):\n",
        "    models_bwd.loc[len(predictors)-1] = backward(predictors)\n",
        "    predictors = models_bwd.loc[len(predictors)-1][\"model\"].model.exog_names\n",
        "\n",
        "toc = time.time()\n",
        "print(\"Total elapsed time\", (toc-tic), \"seconds.\")"
      ],
      "metadata": {
        "colab": {
          "base_uri": "https://localhost:8080/"
        },
        "id": "CfDkgiwSOnbI",
        "outputId": "b44546d0-277b-4b6e-ac19-80d1373c6385"
      },
      "execution_count": 35,
      "outputs": [
        {
          "output_type": "stream",
          "name": "stdout",
          "text": [
            "Processed  19 models on 18 predictors in 0.15756916999816895 seconds.\n",
            "Processed  18 models on 17 predictors in 0.12609314918518066 seconds.\n",
            "Processed  17 models on 16 predictors in 0.12844634056091309 seconds.\n",
            "Processed  16 models on 15 predictors in 0.10718083381652832 seconds.\n",
            "Processed  15 models on 14 predictors in 0.0967719554901123 seconds.\n",
            "Processed  14 models on 13 predictors in 0.12152552604675293 seconds.\n",
            "Processed  13 models on 12 predictors in 0.11027765274047852 seconds.\n",
            "Processed  12 models on 11 predictors in 0.04709935188293457 seconds.\n",
            "Processed  11 models on 10 predictors in 0.041748762130737305 seconds.\n",
            "Processed  10 models on 9 predictors in 0.03847932815551758 seconds.\n",
            "Processed  9 models on 8 predictors in 0.04326462745666504 seconds.\n",
            "Processed  8 models on 7 predictors in 0.03751873970031738 seconds.\n",
            "Processed  7 models on 6 predictors in 0.024170875549316406 seconds.\n",
            "Processed  6 models on 5 predictors in 0.023385047912597656 seconds.\n",
            "Processed  5 models on 4 predictors in 0.013483762741088867 seconds.\n",
            "Processed  4 models on 3 predictors in 0.015535116195678711 seconds.\n",
            "Processed  3 models on 2 predictors in 0.008693695068359375 seconds.\n",
            "Processed  2 models on 1 predictors in 0.009598016738891602 seconds.\n",
            "Total elapsed time 1.21589994430542 seconds.\n"
          ]
        }
      ]
    },
    {
      "cell_type": "code",
      "source": [
        "print(\"------------\")\n",
        "print(\"Best Subset:\")\n",
        "print(\"------------\")\n",
        "print(models_best.loc[7, \"model\"].params)"
      ],
      "metadata": {
        "colab": {
          "base_uri": "https://localhost:8080/"
        },
        "id": "P9NTZmqjOsl_",
        "outputId": "798d03ba-64fa-4d32-a361-673cac4e6780"
      },
      "execution_count": 36,
      "outputs": [
        {
          "output_type": "stream",
          "name": "stdout",
          "text": [
            "------------\n",
            "Best Subset:\n",
            "------------\n",
            "Hits            1.680029\n",
            "Walks           3.399961\n",
            "CAtBat         -0.328835\n",
            "CHits           1.347017\n",
            "CHmRun          1.349373\n",
            "PutOuts         0.248166\n",
            "Division_W   -111.943760\n",
            "dtype: float64\n"
          ]
        }
      ]
    },
    {
      "cell_type": "markdown",
      "source": [
        "Best Subset Selection\n",
        "In the Best Subset Selection output, the coefficients indicate:\n",
        "\n",
        "Hits (1.680029): Each additional hit is associated with an increase in salary of approximately $1,680, assuming all other factors are constant.\n",
        "\n",
        "Walks (3.399961): Each additional walk is associated with an increase in salary of approximately $3,400.\n",
        "\n",
        "CAtBat (-0.328835): Each additional career at-bat is associated with a decrease in salary of approximately $329. This might indicate that players with long careers but less impressive stats per at-bat might earn less.\n",
        "\n",
        "CHits (1.347017): Each additional career hit increases the salary by approximately $1,347.\n",
        "\n",
        "CHmRun (1.349373): Each additional career home run increases the salary by approximately $1,349.\n",
        "\n",
        "PutOuts (0.248166): Each additional putout increases the salary by approximately $248. This might indicate the value of defensive plays.\n",
        "\n",
        "Division_W (-111.943760): Being in the \"W\" division (possibly Western Division) is associated with a decrease in salary of approximately $111,944 compared to other divisions, which might reflect market or economic differences across divisions."
      ],
      "metadata": {
        "id": "PSJ3b9uEQmJ3"
      }
    },
    {
      "cell_type": "code",
      "source": [
        "print(\"-----------------\")\n",
        "print(\"Foward Selection:\")\n",
        "print(\"-----------------\")\n",
        "print(models_fwd.loc[7, \"model\"].params)"
      ],
      "metadata": {
        "colab": {
          "base_uri": "https://localhost:8080/"
        },
        "id": "gaqD3T9kOxWq",
        "outputId": "485fccf5-510c-43f8-8d7a-f9f50f6f3697"
      },
      "execution_count": 37,
      "outputs": [
        {
          "output_type": "stream",
          "name": "stdout",
          "text": [
            "-----------------\n",
            "Foward Selection:\n",
            "-----------------\n",
            "Hits            7.277149\n",
            "CRBI            0.652415\n",
            "Division_W   -110.656338\n",
            "PutOuts         0.259787\n",
            "AtBat          -1.644651\n",
            "Walks           3.684324\n",
            "League_N       49.978410\n",
            "dtype: float64\n"
          ]
        }
      ]
    },
    {
      "cell_type": "markdown",
      "source": [
        "Hits (7.277149): Each additional hit increases the salary by approximately $7,277, which is a much higher estimate compared to the Best Subset Selection.\n",
        "\n",
        "CRBI (0.652415): Each additional career RBI increases the salary by approximately $653.\n",
        "\n",
        "Division_W (-110.656338): Similar to Best Subset, being in the \"W\" division reduces the salary by approximately $110,656.\n",
        "\n",
        "PutOuts (0.259787): Slightly higher than in Best Subset, each additional putout increases the salary by approximately $260.\n",
        "\n",
        "AtBat (-1.644651): Each additional at-bat is associated with a decrease in salary of approximately $1,645.\n",
        "\n",
        "Walks (3.684324): Each additional walk increases the salary by approximately $3,684.\n",
        "\n",
        "League_N (49.978410): Being in the \"N\" league increases the salary by approximately $49,978, indicating significant league-based economic differences."
      ],
      "metadata": {
        "id": "YaX1Rk9lQ0wP"
      }
    },
    {
      "cell_type": "code",
      "source": [
        "print(\"-------------------\")\n",
        "print(\"Backward Selection:\")\n",
        "print(\"-------------------\")\n",
        "print(models_bwd.loc[7, \"model\"].params)"
      ],
      "metadata": {
        "colab": {
          "base_uri": "https://localhost:8080/"
        },
        "id": "G3j_cB5LO1wj",
        "outputId": "09265ff0-3f85-4ec4-c601-663634913c80"
      },
      "execution_count": 38,
      "outputs": [
        {
          "output_type": "stream",
          "name": "stdout",
          "text": [
            "-------------------\n",
            "Backward Selection:\n",
            "-------------------\n",
            "AtBat         -1.601655\n",
            "Hits           6.148449\n",
            "Walks          5.866033\n",
            "CRuns          1.097453\n",
            "CWalks        -0.650614\n",
            "PutOuts        0.310125\n",
            "Division_W   -95.027171\n",
            "dtype: float64\n"
          ]
        }
      ]
    },
    {
      "cell_type": "markdown",
      "source": [
        "AtBat (-1.601655): Each additional at-bat decreases the salary by approximately $1,602.\n",
        "\n",
        "Hits (6.148449): Each additional hit increases the salary by approximately $6,148.\n",
        "\n",
        "Walks (5.866033): Each additional walk increases the salary by approximately $5,866.\n",
        "\n",
        "CRuns (1.097453): Each additional career run increases the salary by approximately $1,097.\n",
        "\n",
        "CWalks (-0.650614): Each additional career walk decreases the salary by approximately $651, which might suggest a nuanced interpretation when viewed in the context of other career stats.\n",
        "\n",
        "PutOuts (0.310125): Each additional putout increases the salary by approximately $310.\n",
        "\n",
        "Division_W (-95.027171): Being in the \"W\" division reduces the salary by approximately $95,027, consistent with other models but with a slightly smaller impact."
      ],
      "metadata": {
        "id": "cnHsMkuNQ75z"
      }
    },
    {
      "cell_type": "markdown",
      "source": [
        "**Choosing the Best Method**\n",
        "\n",
        "\n",
        "*   Dataset Size and Predictor Count: If you have a very large number of predictors, Forward or Backward Selection might be more practical than Best Subset. For smaller sets of predictors, Best Subset can be feasible and optimal.\n",
        "\n",
        "*   Interpretability vs. Predictive Power: If interpretability is more critical, simpler models from Forward or Backward Selection might be preferred. If the goal is to maximize predictive accuracy, Best Subset might be the best, though at a cost of complexity and potential overfitting.\n",
        "\n",
        "\n",
        "*   Computational Resources: If computational resources or time are limited, Forward or Backward Selection may be more appropriate.\n",
        "\n",
        "**Empirical Evaluation**\n",
        "Cross-Validation: You could also use cross-validation to compare models produced by different methods to see which performs best on unseen data, thereby providing a balance between model complexity and predictive power."
      ],
      "metadata": {
        "id": "qOUiaBYPRlm_"
      }
    }
  ]
}