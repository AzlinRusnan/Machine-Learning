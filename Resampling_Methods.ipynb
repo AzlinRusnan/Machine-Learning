{
  "nbformat": 4,
  "nbformat_minor": 0,
  "metadata": {
    "colab": {
      "provenance": [],
      "authorship_tag": "ABX9TyMW4ucwGieorgSn3kOJYZbS",
      "include_colab_link": true
    },
    "kernelspec": {
      "name": "python3",
      "display_name": "Python 3"
    },
    "language_info": {
      "name": "python"
    }
  },
  "cells": [
    {
      "cell_type": "markdown",
      "metadata": {
        "id": "view-in-github",
        "colab_type": "text"
      },
      "source": [
        "<a href=\"https://colab.research.google.com/github/AzlinRusnan/Machine-Learning/blob/main/Resampling_Methods.ipynb\" target=\"_parent\"><img src=\"https://colab.research.google.com/assets/colab-badge.svg\" alt=\"Open In Colab\"/></a>"
      ]
    },
    {
      "cell_type": "markdown",
      "source": [
        "Resampling methods are crucial in machine learning for improving the accuracy of predictive models and for estimating the performance of these models on new data. These methods also help address issues like model overfitting or underfitting and allow us to make better use of limited data. Here are some key resampling techniques commonly used in machine learning:\n",
        "\n",
        "Cross-Validation:\n",
        "\n",
        "K-Fold Cross-Validation: The data set is split into 'k' smaller sets (or folds). The model is trained on 'k-1' of these folds, with the remaining part used as a test set. This is repeated such that each fold serves as the test set exactly once. This method helps in utilizing the data efficiently and provides a robust estimate of model performance.\n",
        "\n",
        "Leave-One-Out Cross-Validation (LOOCV): A special case of k-fold cross-validation where k equals the number of data points in the dataset. Each sample is used once as a test set while the remaining serve as the training set. This is computationally expensive but can provide useful insights, especially for small datasets.\n",
        "\n",
        "Bootstrap:\n",
        "\n",
        "The bootstrap involves randomly sampling with replacement from the data set, typically the same size as the original data set, and using these samples to estimate the model accuracy. This method is particularly useful for estimating the variability of a model estimate.\n",
        "\n",
        "Random Subsampling:\n",
        "\n",
        "Similar to k-fold cross-validation, but without systematic rotation of which samples are used for training and testing. Random subsets of the data are repeatedly taken as training and testing sets. It’s usually quicker but less robust than cross-validation.\n",
        "\n",
        "Stratified Sampling:\n",
        "\n",
        "In stratified sampling, the data is divided in such a way that each subset contains approximately the same percentage of samples of each target class as the complete set. This is useful for dealing with imbalanced datasets.\n",
        "\n",
        "Shuffle Split:\n",
        "\n",
        "This method involves randomly shuffling and then splitting the data into training and testing datasets. This process is repeated n times. It provides flexibility in choosing the size of the train and test sets."
      ],
      "metadata": {
        "id": "ydQfu7xCYGRZ"
      }
    },
    {
      "cell_type": "markdown",
      "source": [
        "#**Chapter 5 Resampling Methods**\n",
        "**Resampling** - repeatedly drawing samples from a training set and refitting a modelon each sample - to obtain additional info.\n",
        "\n",
        "**Common resampling methods:** bootstraping and cross validation.\n",
        "\n",
        "**Cross validation** can be used to estimate the test error to evaluate model perfomance (model assessment) or to select appropriate level of flexibility (model selection).\n",
        "\n",
        "**Boostraping** provide a measure of accuracy of a parameter estimates or statistical learning method."
      ],
      "metadata": {
        "id": "c8jIvHWyM6VW"
      }
    },
    {
      "cell_type": "markdown",
      "source": [
        "**Cross Validation**\n",
        "\n",
        "Validation Set Approach\n",
        "\n",
        "\n",
        "\n",
        "*   Usually a test set is not available so a simple strategy to create one is to split the available data into training and testing (validation or hold-out set).\n",
        "*   Divide the data into half where the observation in each sets are randomly selected.\n",
        "\n",
        "*   To assess the model perfomance - quantitative responses usually use MSE, for categorical can use error rate, area under the curve, F1 score, weighting of confusion matrix, etc...\n",
        "*   Drawbacks of this technique:\n",
        "   *   the validation estimation of the test error rate can be highly variable.\n",
        "   *   the validation set error rate may tend to overestimate the test error rate\n",
        "\n",
        "\n"
      ],
      "metadata": {
        "id": "rjO-wsLoNfrv"
      }
    },
    {
      "cell_type": "code",
      "source": [
        "from google.colab import drive\n",
        "drive.mount('/content/gdrive')"
      ],
      "metadata": {
        "colab": {
          "base_uri": "https://localhost:8080/"
        },
        "id": "yC09kt5-OL8l",
        "outputId": "73b7459c-9dfb-4201-ff48-311413517c1f"
      },
      "execution_count": 1,
      "outputs": [
        {
          "output_type": "stream",
          "name": "stdout",
          "text": [
            "Mounted at /content/gdrive\n"
          ]
        }
      ]
    },
    {
      "cell_type": "code",
      "source": [
        "from IPython.display import Image\n",
        "Image('/content/gdrive/MyDrive/STQD 6024 Machine Learning/pw41.PNG', width =500)"
      ],
      "metadata": {
        "colab": {
          "base_uri": "https://localhost:8080/",
          "height": 148
        },
        "id": "bQAPWnMAOIar",
        "outputId": "76c5f80a-1c56-49c4-9ccb-12bf5d73b747"
      },
      "execution_count": 2,
      "outputs": [
        {
          "output_type": "execute_result",
          "data": {
            "image/png": "[encoded data removed]",
            "text/plain": [
              "<IPython.core.display.Image object>"
            ]
          },
          "metadata": {
            "image/png": {
              "width": 500
            }
          },
          "execution_count": 2
        }
      ]
    },
    {
      "cell_type": "code",
      "source": [
        "import pandas as pd\n",
        "import numpy as np\n",
        "import sklearn.linear_model as skl_lm\n",
        "import matplotlib.pyplot as plt\n",
        "%matplotlib inline"
      ],
      "metadata": {
        "id": "jOu-49UuPMCL"
      },
      "execution_count": 3,
      "outputs": []
    },
    {
      "cell_type": "markdown",
      "source": [
        "In this section, we'll explore the use of the validation set approach in order to estimate the test error rates that result from fitting various linear models on the  𝙰𝚞𝚝𝚘\n",
        "  data set."
      ],
      "metadata": {
        "id": "xBx4fHbgPPn1"
      }
    },
    {
      "cell_type": "code",
      "source": [
        "df1 = pd.read_csv(\"/content/gdrive/MyDrive/STQD 6024 Machine Learning/auto.csv\", na_values='?').dropna()\n",
        "df1.info()"
      ],
      "metadata": {
        "colab": {
          "base_uri": "https://localhost:8080/"
        },
        "id": "k-SHn5LKPS2g",
        "outputId": "f324d08f-422a-4a97-ba2c-d208922bf6ab"
      },
      "execution_count": 4,
      "outputs": [
        {
          "output_type": "stream",
          "name": "stdout",
          "text": [
            "<class 'pandas.core.frame.DataFrame'>\n",
            "RangeIndex: 392 entries, 0 to 391\n",
            "Data columns (total 9 columns):\n",
            " #   Column        Non-Null Count  Dtype  \n",
            "---  ------        --------------  -----  \n",
            " 0   mpg           392 non-null    float64\n",
            " 1   cylinders     392 non-null    int64  \n",
            " 2   displacement  392 non-null    float64\n",
            " 3   horsepower    392 non-null    int64  \n",
            " 4   weight        392 non-null    int64  \n",
            " 5   acceleration  392 non-null    float64\n",
            " 6   year          392 non-null    int64  \n",
            " 7   origin        392 non-null    int64  \n",
            " 8   name          392 non-null    object \n",
            "dtypes: float64(3), int64(5), object(1)\n",
            "memory usage: 27.7+ KB\n"
          ]
        }
      ]
    },
    {
      "cell_type": "markdown",
      "source": [
        "We begin by using the  𝚜𝚊𝚖𝚙𝚕𝚎()\n",
        "  function to split the set of observations into two halves, by selecting a random subset of 196 observations out of the original 392 observations. We refer to these observations as the training set.\n",
        "\n",
        "We'll use the  𝚛𝚊𝚗𝚍𝚘𝚖⎯𝚜𝚝𝚊𝚝𝚎\n",
        "  parameter in order to set a seed for  𝚙𝚢𝚝𝚑𝚘𝚗\n",
        " ’s random number generator, so that you'll obtain precisely the same results each time. It is generally a good idea to set a random seed when performing an analysis such as cross-validation that contains an element of randomness, so that the results obtained can be reproduced precisely at a later time."
      ],
      "metadata": {
        "id": "aUXJcl94PmGG"
      }
    },
    {
      "cell_type": "code",
      "source": [
        "train_df = df1.sample(196, random_state = 1)\n",
        "test_df = df1[~df1.isin(train_df)].dropna(how = 'all')\n",
        "\n",
        "X_train = train_df['horsepower'].values.reshape(-1,1)\n",
        "y_train = train_df['mpg']\n",
        "X_test = test_df['horsepower'].values.reshape(-1,1)\n",
        "y_test = test_df['mpg']"
      ],
      "metadata": {
        "id": "-3_NA07PQGWD"
      },
      "execution_count": 5,
      "outputs": []
    },
    {
      "cell_type": "markdown",
      "source": [
        "We then use  𝙻𝚒𝚗𝚎𝚊𝚛𝚁𝚎𝚐𝚛𝚎𝚜𝚜𝚒𝚘𝚗()\n",
        "  to fit a linear regression to predict  𝚖𝚙𝚐\n",
        "  from  𝚑𝚘𝚛𝚜𝚎𝚙𝚘𝚠𝚎𝚛\n",
        "  using only the observations corresponding to the training set."
      ],
      "metadata": {
        "id": "aKlHhiusQK2m"
      }
    },
    {
      "cell_type": "code",
      "source": [
        "lm = skl_lm.LinearRegression()\n",
        "model = lm.fit(X_train, y_train)"
      ],
      "metadata": {
        "id": "aL5vcdDVQL1D"
      },
      "execution_count": 6,
      "outputs": []
    },
    {
      "cell_type": "markdown",
      "source": [
        "We now use the  𝚙𝚛𝚎𝚍𝚒𝚌𝚝()\n",
        "  function to estimate the response for the test observations, and we use  𝚜𝚔𝚕𝚎𝚊𝚛𝚗\n",
        "  to caclulate the MSE."
      ],
      "metadata": {
        "id": "11wqL74QSFoa"
      }
    },
    {
      "cell_type": "code",
      "source": [
        "pred = model.predict(X_test)\n",
        "\n",
        "from sklearn.metrics import mean_squared_error\n",
        "\n",
        "MSE = mean_squared_error(y_test, pred)\n",
        "\n",
        "print(MSE)"
      ],
      "metadata": {
        "colab": {
          "base_uri": "https://localhost:8080/"
        },
        "id": "nYmIZhU7SP0C",
        "outputId": "7bbacf47-40e7-4dfb-9b10-302ffc2e6957"
      },
      "execution_count": 7,
      "outputs": [
        {
          "output_type": "stream",
          "name": "stdout",
          "text": [
            "23.361902892587224\n"
          ]
        }
      ]
    },
    {
      "cell_type": "markdown",
      "source": [
        "Therefore, the estimated test MSE for the linear regression fit is 23.36. We can use the  𝙿𝚘𝚕𝚢𝚗𝚘𝚖𝚒𝚊𝚕𝙵𝚎𝚊𝚝𝚞𝚛𝚎𝚜()\n",
        "  function to estimate the test error for the polynomial and cubic regressions."
      ],
      "metadata": {
        "id": "doDLtBHPSYwn"
      }
    },
    {
      "cell_type": "code",
      "source": [
        "from sklearn.preprocessing import PolynomialFeatures\n",
        "\n",
        "# Quadratic\n",
        "poly = PolynomialFeatures(degree=2)\n",
        "X_train2 = poly.fit_transform(X_train)\n",
        "X_test2 = poly.fit_transform(X_test)\n",
        "\n",
        "model = lm.fit(X_train2, y_train)\n",
        "print(mean_squared_error(y_test, model.predict(X_test2)))\n",
        "\n",
        "# Cubic\n",
        "poly = PolynomialFeatures(degree=3)\n",
        "X_train3 = poly.fit_transform(X_train)\n",
        "X_test3 = poly.fit_transform(X_test)\n",
        "\n",
        "model = lm.fit(X_train3, y_train)\n",
        "print(mean_squared_error(y_test, model.predict(X_test3)))"
      ],
      "metadata": {
        "colab": {
          "base_uri": "https://localhost:8080/"
        },
        "id": "xDVZ7i44TVdw",
        "outputId": "8f06f13c-b7e0-4198-e1bd-4fb17c08cc74"
      },
      "execution_count": 8,
      "outputs": [
        {
          "output_type": "stream",
          "name": "stdout",
          "text": [
            "20.252690858345748\n",
            "20.325609365972525\n"
          ]
        }
      ]
    },
    {
      "cell_type": "markdown",
      "source": [
        "These error rates are 20.25 and 20.33, respectively. If we choose a different training set instead, then we will obtain somewhat different errors on the validation set. We can test this out by setting a different random seed:"
      ],
      "metadata": {
        "id": "haspljbGTyfX"
      }
    },
    {
      "cell_type": "code",
      "source": [
        "##Choose a different training set\n",
        "\n",
        "train_df = df1.sample(196, random_state = 2)\n",
        "test_df = df1[~df1.isin(train_df)].dropna(how = 'all')\n",
        "\n",
        "X_train = train_df['horsepower'].values.reshape(-1,1)\n",
        "y_train = train_df['mpg']\n",
        "X_test = test_df['horsepower'].values.reshape(-1,1)\n",
        "y_test = test_df['mpg']\n",
        "\n",
        "# Linear\n",
        "model = lm.fit(X_train, y_train)\n",
        "print(mean_squared_error(y_test, model.predict(X_test)))\n",
        "\n",
        "# Quadratic\n",
        "poly = PolynomialFeatures(degree=2)\n",
        "X_train2 = poly.fit_transform(X_train)\n",
        "X_test2 = poly.fit_transform(X_test)\n",
        "\n",
        "model = lm.fit(X_train2, y_train)\n",
        "print(mean_squared_error(y_test, model.predict(X_test2)))\n",
        "\n",
        "# Cubic\n",
        "poly = PolynomialFeatures(degree=3)\n",
        "X_train3 = poly.fit_transform(X_train)\n",
        "X_test3 = poly.fit_transform(X_test)\n",
        "\n",
        "model = lm.fit(X_train3, y_train)\n",
        "print(mean_squared_error(y_test, model.predict(X_test3)))"
      ],
      "metadata": {
        "colab": {
          "base_uri": "https://localhost:8080/"
        },
        "id": "91PMSQkMTzta",
        "outputId": "8e044ce3-476d-4143-abd0-ef6bf83214bf"
      },
      "execution_count": 9,
      "outputs": [
        {
          "output_type": "stream",
          "name": "stdout",
          "text": [
            "25.10853905288967\n",
            "19.722533470492422\n",
            "19.92136786007267\n"
          ]
        }
      ]
    },
    {
      "cell_type": "markdown",
      "source": [
        "These results are consistent with our previous findings: a model that predicts 𝚖𝚙𝚐\n",
        " using a quadratic function of 𝚑𝚘𝚛𝚜𝚎𝚙𝚘𝚠𝚎𝚛\n",
        " performs better than a model that involves only a linear function of 𝚑𝚘𝚛𝚜𝚎𝚙𝚘𝚠𝚎𝚛\n",
        ", and there is little evidence in favor of a model that uses a cubic function of  𝚑𝚘𝚛𝚜𝚎𝚙𝚘𝚠𝚎𝚛"
      ],
      "metadata": {
        "id": "uEw0RuytUVas"
      }
    },
    {
      "cell_type": "markdown",
      "source": [
        "### **Leave One Out Cross Validation**\n",
        "+ LOOCV has only one observation in the test set and uses all other n-1 observations to build a model.\n",
        "+ n different models are built leaving out each observation once and error is averaged over these n trials.  \n",
        "$$\\textrm{CV}_{(n)} = \\frac{1}{n}\\sum_{i=1}^n{\\textrm{MSE}_i}$$\n",
        "+ LOOCV is better than validation set approach. It has far less bias and tends to not overestimate the test error rate.\n",
        "+ Model is built on nearly all the data and there is no randomness in the splits since each observation will be left out once.\n",
        "+ It is computationally expensive especially with large n and a complex model."
      ],
      "metadata": {
        "id": "NLUZu-HFUog_"
      }
    },
    {
      "cell_type": "code",
      "source": [
        "Image('/content/gdrive/MyDrive/STQD 6024 Machine Learning/pw42.PNG', width =500)"
      ],
      "metadata": {
        "colab": {
          "base_uri": "https://localhost:8080/",
          "height": 279
        },
        "id": "Jt8wykOxVJoy",
        "outputId": "9d538881-a00f-47b2-a112-400cd6c81749"
      },
      "execution_count": 10,
      "outputs": [
        {
          "output_type": "execute_result",
          "data": {
            "image/png": "[encoded data removed]",
            "text/plain": [
              "<IPython.core.display.Image object>"
            ]
          },
          "metadata": {
            "image/png": {
              "width": 500
            }
          },
          "execution_count": 10
        }
      ]
    },
    {
      "cell_type": "markdown",
      "source": [
        "#### Example"
      ],
      "metadata": {
        "id": "KB5euJ6BVP6s"
      }
    },
    {
      "cell_type": "code",
      "source": [
        "model = lm.fit(X_train, y_train)\n",
        "\n",
        "from sklearn.model_selection import cross_val_score, LeaveOneOut\n",
        "loo = LeaveOneOut()\n",
        "X = df1['horsepower'].values.reshape(-1,1)\n",
        "y = df1['mpg'].values.reshape(-1,1)\n",
        "loo.get_n_splits(X)\n",
        "\n",
        "from sklearn.model_selection import KFold\n",
        "\n",
        "crossvalidation = KFold(n_splits=392, random_state=None, shuffle=False)\n",
        "\n",
        "scores = cross_val_score(model, X, y, scoring=\"neg_mean_squared_error\", cv=crossvalidation,\n",
        " n_jobs=1)\n",
        "\n",
        "print(\"Folds: \" + str(len(scores)) + \", MSE: \" + str(np.mean(np.abs(scores))) + \", STD: \" + str(np.std(scores)))"
      ],
      "metadata": {
        "colab": {
          "base_uri": "https://localhost:8080/"
        },
        "id": "yFn_c3-_VZYh",
        "outputId": "98033b8e-a982-4189-df45-68d32ee40a07"
      },
      "execution_count": 11,
      "outputs": [
        {
          "output_type": "stream",
          "name": "stdout",
          "text": [
            "Folds: 392, MSE: 24.231513517929226, STD: 36.79731503640535\n"
          ]
        }
      ]
    },
    {
      "cell_type": "markdown",
      "source": [
        "We can repeat this procedure for increasingly complex polynomial fits.\n",
        "\n",
        "To automate the process, we use the for() function to initiate a for loop which iteratively fits polynomial regressions for polynomials of order i = 1 to i = 5 and computes the associated cross-validation error."
      ],
      "metadata": {
        "id": "6qKC5Db4VjVG"
      }
    },
    {
      "cell_type": "code",
      "source": [
        "for i in range(1,6):\n",
        "    poly = PolynomialFeatures(degree=i)\n",
        "    X_current = poly.fit_transform(X)\n",
        "    model = lm.fit(X_current, y)\n",
        "    scores = cross_val_score(model, X_current, y, scoring=\"neg_mean_squared_error\", cv=crossvalidation,\n",
        " n_jobs=1)\n",
        "\n",
        "    print(\"Degree-\"+str(i)+\" polynomial MSE: \" + str(np.mean(np.abs(scores))) + \", STD: \" + str(np.std(scores)))"
      ],
      "metadata": {
        "colab": {
          "base_uri": "https://localhost:8080/"
        },
        "id": "m47JRuqkVlUD",
        "outputId": "015afc3a-0089-4b21-c7eb-85fa8eb7dee9"
      },
      "execution_count": 12,
      "outputs": [
        {
          "output_type": "stream",
          "name": "stdout",
          "text": [
            "Degree-1 polynomial MSE: 24.231513517929226, STD: 36.797315036405344\n",
            "Degree-2 polynomial MSE: 19.248213124489737, STD: 34.99844615178235\n",
            "Degree-3 polynomial MSE: 19.334984064092605, STD: 35.76513567783445\n",
            "Degree-4 polynomial MSE: 19.424430307079565, STD: 35.683352752283625\n",
            "Degree-5 polynomial MSE: 19.033202845369832, STD: 35.31730256892403\n"
          ]
        }
      ]
    },
    {
      "cell_type": "markdown",
      "source": [
        "### k-fold cross validation\n",
        "+ Similar to LOOCV but this time you leave some number greater than 1 out.\n",
        "+ Here, $k$ is the number of partitions of your sample, so if you have $n=1000$ observations and k = 10, the each fold will be 100.\n",
        "+ 900 observations would be the training set and 100 observations would act as your test set.\n",
        "+ Get an MSE for each fold of these 100 observations and take the average.\n",
        "$$\\textrm{CV}_{(k)} = \\frac{1}{k}\\sum_{i=1}^k{\\textrm{MSE}_i}$$\n",
        "+ LOOCV is a special case of k-fold CV whenever $k=n$.\n",
        "+ Computationally inexpensive compare to LOOCV.\n",
        "+ Some variability compare to LOOCV."
      ],
      "metadata": {
        "id": "Mlw42Vz8Vqcl"
      }
    },
    {
      "cell_type": "code",
      "source": [
        "Image('/content/gdrive/MyDrive/STQD 6024 Machine Learning/pw43.PNG', width =500)"
      ],
      "metadata": {
        "colab": {
          "base_uri": "https://localhost:8080/",
          "height": 266
        },
        "id": "rGgMM0CZVtKJ",
        "outputId": "1b669583-cef9-442d-811f-a665d4037c42"
      },
      "execution_count": 13,
      "outputs": [
        {
          "output_type": "execute_result",
          "data": {
            "image/png": "[encoded data removed]",
            "text/plain": [
              "<IPython.core.display.Image object>"
            ]
          },
          "metadata": {
            "image/png": {
              "width": 500
            }
          },
          "execution_count": 13
        }
      ]
    },
    {
      "cell_type": "code",
      "source": [
        "crossvalidation = KFold(n_splits=10, random_state=1, shuffle=False)\n",
        "\n",
        "for i in range(1,11):\n",
        "    poly = PolynomialFeatures(degree=i)\n",
        "    X_current = poly.fit_transform(X)\n",
        "    model = lm.fit(X_current, y)\n",
        "    scores = cross_val_score(model, X_current, y, scoring=\"neg_mean_squared_error\", cv=crossvalidation,\n",
        " n_jobs=1)\n",
        "\n",
        "    print(\"Degree-\"+str(i)+\" polynomial MSE: \" + str(np.mean(np.abs(scores))) + \", STD: \" + str(np.std(scores)))"
      ],
      "metadata": {
        "colab": {
          "base_uri": "https://localhost:8080/",
          "height": 356
        },
        "id": "xEwKH3z4V8RZ",
        "outputId": "4bb74e7b-24ec-448f-d3c5-0ba365345e99"
      },
      "execution_count": 14,
      "outputs": [
        {
          "output_type": "error",
          "ename": "ValueError",
          "evalue": "Setting a random_state has no effect since shuffle is False. You should leave random_state to its default (None), or set shuffle=True.",
          "traceback": [
            "\u001b[0;31m---------------------------------------------------------------------------\u001b[0m",
            "\u001b[0;31mValueError\u001b[0m                                Traceback (most recent call last)",
            "\u001b[0;32m<ipython-input-14-8f8f7e5a7346>\u001b[0m in \u001b[0;36m<cell line: 1>\u001b[0;34m()\u001b[0m\n\u001b[0;32m----> 1\u001b[0;31m \u001b[0mcrossvalidation\u001b[0m \u001b[0;34m=\u001b[0m \u001b[0mKFold\u001b[0m\u001b[0;34m(\u001b[0m\u001b[0mn_splits\u001b[0m\u001b[0;34m=\u001b[0m\u001b[0;36m10\u001b[0m\u001b[0;34m,\u001b[0m \u001b[0mrandom_state\u001b[0m\u001b[0;34m=\u001b[0m\u001b[0;36m1\u001b[0m\u001b[0;34m,\u001b[0m \u001b[0mshuffle\u001b[0m\u001b[0;34m=\u001b[0m\u001b[0;32mFalse\u001b[0m\u001b[0;34m)\u001b[0m\u001b[0;34m\u001b[0m\u001b[0;34m\u001b[0m\u001b[0m\n\u001b[0m\u001b[1;32m      2\u001b[0m \u001b[0;34m\u001b[0m\u001b[0m\n\u001b[1;32m      3\u001b[0m \u001b[0;32mfor\u001b[0m \u001b[0mi\u001b[0m \u001b[0;32min\u001b[0m \u001b[0mrange\u001b[0m\u001b[0;34m(\u001b[0m\u001b[0;36m1\u001b[0m\u001b[0;34m,\u001b[0m\u001b[0;36m11\u001b[0m\u001b[0;34m)\u001b[0m\u001b[0;34m:\u001b[0m\u001b[0;34m\u001b[0m\u001b[0;34m\u001b[0m\u001b[0m\n\u001b[1;32m      4\u001b[0m     \u001b[0mpoly\u001b[0m \u001b[0;34m=\u001b[0m \u001b[0mPolynomialFeatures\u001b[0m\u001b[0;34m(\u001b[0m\u001b[0mdegree\u001b[0m\u001b[0;34m=\u001b[0m\u001b[0mi\u001b[0m\u001b[0;34m)\u001b[0m\u001b[0;34m\u001b[0m\u001b[0;34m\u001b[0m\u001b[0m\n\u001b[1;32m      5\u001b[0m     \u001b[0mX_current\u001b[0m \u001b[0;34m=\u001b[0m \u001b[0mpoly\u001b[0m\u001b[0;34m.\u001b[0m\u001b[0mfit_transform\u001b[0m\u001b[0;34m(\u001b[0m\u001b[0mX\u001b[0m\u001b[0;34m)\u001b[0m\u001b[0;34m\u001b[0m\u001b[0;34m\u001b[0m\u001b[0m\n",
            "\u001b[0;32m/usr/local/lib/python3.10/dist-packages/sklearn/model_selection/_split.py\u001b[0m in \u001b[0;36m__init__\u001b[0;34m(self, n_splits, shuffle, random_state)\u001b[0m\n\u001b[1;32m    449\u001b[0m \u001b[0;34m\u001b[0m\u001b[0m\n\u001b[1;32m    450\u001b[0m     \u001b[0;32mdef\u001b[0m \u001b[0m__init__\u001b[0m\u001b[0;34m(\u001b[0m\u001b[0mself\u001b[0m\u001b[0;34m,\u001b[0m \u001b[0mn_splits\u001b[0m\u001b[0;34m=\u001b[0m\u001b[0;36m5\u001b[0m\u001b[0;34m,\u001b[0m \u001b[0;34m*\u001b[0m\u001b[0;34m,\u001b[0m \u001b[0mshuffle\u001b[0m\u001b[0;34m=\u001b[0m\u001b[0;32mFalse\u001b[0m\u001b[0;34m,\u001b[0m \u001b[0mrandom_state\u001b[0m\u001b[0;34m=\u001b[0m\u001b[0;32mNone\u001b[0m\u001b[0;34m)\u001b[0m\u001b[0;34m:\u001b[0m\u001b[0;34m\u001b[0m\u001b[0;34m\u001b[0m\u001b[0m\n\u001b[0;32m--> 451\u001b[0;31m         \u001b[0msuper\u001b[0m\u001b[0;34m(\u001b[0m\u001b[0;34m)\u001b[0m\u001b[0;34m.\u001b[0m\u001b[0m__init__\u001b[0m\u001b[0;34m(\u001b[0m\u001b[0mn_splits\u001b[0m\u001b[0;34m=\u001b[0m\u001b[0mn_splits\u001b[0m\u001b[0;34m,\u001b[0m \u001b[0mshuffle\u001b[0m\u001b[0;34m=\u001b[0m\u001b[0mshuffle\u001b[0m\u001b[0;34m,\u001b[0m \u001b[0mrandom_state\u001b[0m\u001b[0;34m=\u001b[0m\u001b[0mrandom_state\u001b[0m\u001b[0;34m)\u001b[0m\u001b[0;34m\u001b[0m\u001b[0;34m\u001b[0m\u001b[0m\n\u001b[0m\u001b[1;32m    452\u001b[0m \u001b[0;34m\u001b[0m\u001b[0m\n\u001b[1;32m    453\u001b[0m     \u001b[0;32mdef\u001b[0m \u001b[0m_iter_test_indices\u001b[0m\u001b[0;34m(\u001b[0m\u001b[0mself\u001b[0m\u001b[0;34m,\u001b[0m \u001b[0mX\u001b[0m\u001b[0;34m,\u001b[0m \u001b[0my\u001b[0m\u001b[0;34m=\u001b[0m\u001b[0;32mNone\u001b[0m\u001b[0;34m,\u001b[0m \u001b[0mgroups\u001b[0m\u001b[0;34m=\u001b[0m\u001b[0;32mNone\u001b[0m\u001b[0;34m)\u001b[0m\u001b[0;34m:\u001b[0m\u001b[0;34m\u001b[0m\u001b[0;34m\u001b[0m\u001b[0m\n",
            "\u001b[0;32m/usr/local/lib/python3.10/dist-packages/sklearn/model_selection/_split.py\u001b[0m in \u001b[0;36m__init__\u001b[0;34m(self, n_splits, shuffle, random_state)\u001b[0m\n\u001b[1;32m    306\u001b[0m \u001b[0;34m\u001b[0m\u001b[0m\n\u001b[1;32m    307\u001b[0m         \u001b[0;32mif\u001b[0m \u001b[0;32mnot\u001b[0m \u001b[0mshuffle\u001b[0m \u001b[0;32mand\u001b[0m \u001b[0mrandom_state\u001b[0m \u001b[0;32mis\u001b[0m \u001b[0;32mnot\u001b[0m \u001b[0;32mNone\u001b[0m\u001b[0;34m:\u001b[0m  \u001b[0;31m# None is the default\u001b[0m\u001b[0;34m\u001b[0m\u001b[0;34m\u001b[0m\u001b[0m\n\u001b[0;32m--> 308\u001b[0;31m             raise ValueError(\n\u001b[0m\u001b[1;32m    309\u001b[0m                 \u001b[0;34m\"Setting a random_state has no effect since shuffle is \"\u001b[0m\u001b[0;34m\u001b[0m\u001b[0;34m\u001b[0m\u001b[0m\n\u001b[1;32m    310\u001b[0m                 \u001b[0;34m\"False. You should leave \"\u001b[0m\u001b[0;34m\u001b[0m\u001b[0;34m\u001b[0m\u001b[0m\n",
            "\u001b[0;31mValueError\u001b[0m: Setting a random_state has no effect since shuffle is False. You should leave random_state to its default (None), or set shuffle=True."
          ]
        }
      ]
    },
    {
      "cell_type": "markdown",
      "source": [
        "### bias-variance tradeoff between LOOCV and k-folds\n",
        "+ Since LOOCV trains on nearly all the data, the test error rate will generally be lower than k-fold and therefore less biased.\n",
        "+ LOOCV will have higher variance since all $n$ models will be very highly correlated to one another.\n",
        "+ Since the models won't differ much, the test error rate (which what CV is measuring) will vary more than k-fold which has fewer models that are less correlated with one another.\n",
        "+ A value of $k$ between 5 and 10 is a good rule of thumb that balances the trade-off between bias and variance"
      ],
      "metadata": {
        "id": "lfPk4p6cWMuE"
      }
    },
    {
      "cell_type": "code",
      "source": [
        "df2 = pd.read_csv(\"/content/gdrive/MyDrive/STQD 6024 Machine Learning/default.csv\", na_values='?').dropna()\n",
        "df2.describe()"
      ],
      "metadata": {
        "colab": {
          "base_uri": "https://localhost:8080/",
          "height": 300
        },
        "id": "aFjhscaiWQp4",
        "outputId": "e6cb70e8-4bef-4ef0-897e-3d75346f4e1f"
      },
      "execution_count": 15,
      "outputs": [
        {
          "output_type": "execute_result",
          "data": {
            "text/plain": [
              "            balance        income\n",
              "count  10000.000000  10000.000000\n",
              "mean     835.374886  33516.981876\n",
              "std      483.714985  13336.639563\n",
              "min        0.000000    771.967729\n",
              "25%      481.731105  21340.462903\n",
              "50%      823.636973  34552.644802\n",
              "75%     1166.308386  43807.729272\n",
              "max     2654.322576  73554.233495"
            ],
            "text/html": [
              "\n",
              "  <div id=\"df-7a0d7738-5d32-439d-8a3d-7fad51c8252b\" class=\"colab-df-container\">\n",
              "    <div>\n",
              "<style scoped>\n",
              "    .dataframe tbody tr th:only-of-type {\n",
              "        vertical-align: middle;\n",
              "    }\n",
              "\n",
              "    .dataframe tbody tr th {\n",
              "        vertical-align: top;\n",
              "    }\n",
              "\n",
              "    .dataframe thead th {\n",
              "        text-align: right;\n",
              "    }\n",
              "</style>\n",
              "<table border=\"1\" class=\"dataframe\">\n",
              "  <thead>\n",
              "    <tr style=\"text-align: right;\">\n",
              "      <th></th>\n",
              "      <th>balance</th>\n",
              "      <th>income</th>\n",
              "    </tr>\n",
              "  </thead>\n",
              "  <tbody>\n",
              "    <tr>\n",
              "      <th>count</th>\n",
              "      <td>10000.000000</td>\n",
              "      <td>10000.000000</td>\n",
              "    </tr>\n",
              "    <tr>\n",
              "      <th>mean</th>\n",
              "      <td>835.374886</td>\n",
              "      <td>33516.981876</td>\n",
              "    </tr>\n",
              "    <tr>\n",
              "      <th>std</th>\n",
              "      <td>483.714985</td>\n",
              "      <td>13336.639563</td>\n",
              "    </tr>\n",
              "    <tr>\n",
              "      <th>min</th>\n",
              "      <td>0.000000</td>\n",
              "      <td>771.967729</td>\n",
              "    </tr>\n",
              "    <tr>\n",
              "      <th>25%</th>\n",
              "      <td>481.731105</td>\n",
              "      <td>21340.462903</td>\n",
              "    </tr>\n",
              "    <tr>\n",
              "      <th>50%</th>\n",
              "      <td>823.636973</td>\n",
              "      <td>34552.644802</td>\n",
              "    </tr>\n",
              "    <tr>\n",
              "      <th>75%</th>\n",
              "      <td>1166.308386</td>\n",
              "      <td>43807.729272</td>\n",
              "    </tr>\n",
              "    <tr>\n",
              "      <th>max</th>\n",
              "      <td>2654.322576</td>\n",
              "      <td>73554.233495</td>\n",
              "    </tr>\n",
              "  </tbody>\n",
              "</table>\n",
              "</div>\n",
              "    <div class=\"colab-df-buttons\">\n",
              "\n",
              "  <div class=\"colab-df-container\">\n",
              "    <button class=\"colab-df-convert\" onclick=\"convertToInteractive('df-7a0d7738-5d32-439d-8a3d-7fad51c8252b')\"\n",
              "            title=\"Convert this dataframe to an interactive table.\"\n",
              "            style=\"display:none;\">\n",
              "\n",
              "  <svg xmlns=\"http://www.w3.org/2000/svg\" height=\"24px\" viewBox=\"0 -960 960 960\">\n",
              "    <path d=\"M120-120v-720h720v720H120Zm60-500h600v-160H180v160Zm220 220h160v-160H400v160Zm0 220h160v-160H400v160ZM180-400h160v-160H180v160Zm440 0h160v-160H620v160ZM180-180h160v-160H180v160Zm440 0h160v-160H620v160Z\"/>\n",
              "  </svg>\n",
              "    </button>\n",
              "\n",
              "  <style>\n",
              "    .colab-df-container {\n",
              "      display:flex;\n",
              "      gap: 12px;\n",
              "    }\n",
              "\n",
              "    .colab-df-convert {\n",
              "      background-color: #E8F0FE;\n",
              "      border: none;\n",
              "      border-radius: 50%;\n",
              "      cursor: pointer;\n",
              "      display: none;\n",
              "      fill: #1967D2;\n",
              "      height: 32px;\n",
              "      padding: 0 0 0 0;\n",
              "      width: 32px;\n",
              "    }\n",
              "\n",
              "    .colab-df-convert:hover {\n",
              "      background-color: #E2EBFA;\n",
              "      box-shadow: 0px 1px 2px rgba(60, 64, 67, 0.3), 0px 1px 3px 1px rgba(60, 64, 67, 0.15);\n",
              "      fill: #174EA6;\n",
              "    }\n",
              "\n",
              "    .colab-df-buttons div {\n",
              "      margin-bottom: 4px;\n",
              "    }\n",
              "\n",
              "    [theme=dark] .colab-df-convert {\n",
              "      background-color: #3B4455;\n",
              "      fill: #D2E3FC;\n",
              "    }\n",
              "\n",
              "    [theme=dark] .colab-df-convert:hover {\n",
              "      background-color: #434B5C;\n",
              "      box-shadow: 0px 1px 3px 1px rgba(0, 0, 0, 0.15);\n",
              "      filter: drop-shadow(0px 1px 2px rgba(0, 0, 0, 0.3));\n",
              "      fill: #FFFFFF;\n",
              "    }\n",
              "  </style>\n",
              "\n",
              "    <script>\n",
              "      const buttonEl =\n",
              "        document.querySelector('#df-7a0d7738-5d32-439d-8a3d-7fad51c8252b button.colab-df-convert');\n",
              "      buttonEl.style.display =\n",
              "        google.colab.kernel.accessAllowed ? 'block' : 'none';\n",
              "\n",
              "      async function convertToInteractive(key) {\n",
              "        const element = document.querySelector('#df-7a0d7738-5d32-439d-8a3d-7fad51c8252b');\n",
              "        const dataTable =\n",
              "          await google.colab.kernel.invokeFunction('convertToInteractive',\n",
              "                                                    [key], {});\n",
              "        if (!dataTable) return;\n",
              "\n",
              "        const docLinkHtml = 'Like what you see? Visit the ' +\n",
              "          '<a target=\"_blank\" href=https://colab.research.google.com/notebooks/data_table.ipynb>data table notebook</a>'\n",
              "          + ' to learn more about interactive tables.';\n",
              "        element.innerHTML = '';\n",
              "        dataTable['output_type'] = 'display_data';\n",
              "        await google.colab.output.renderOutput(dataTable, element);\n",
              "        const docLink = document.createElement('div');\n",
              "        docLink.innerHTML = docLinkHtml;\n",
              "        element.appendChild(docLink);\n",
              "      }\n",
              "    </script>\n",
              "  </div>\n",
              "\n",
              "\n",
              "<div id=\"df-d8b212c0-4a60-4245-b87f-342d1c3749cd\">\n",
              "  <button class=\"colab-df-quickchart\" onclick=\"quickchart('df-d8b212c0-4a60-4245-b87f-342d1c3749cd')\"\n",
              "            title=\"Suggest charts\"\n",
              "            style=\"display:none;\">\n",
              "\n",
              "<svg xmlns=\"http://www.w3.org/2000/svg\" height=\"24px\"viewBox=\"0 0 24 24\"\n",
              "     width=\"24px\">\n",
              "    <g>\n",
              "        <path d=\"M19 3H5c-1.1 0-2 .9-2 2v14c0 1.1.9 2 2 2h14c1.1 0 2-.9 2-2V5c0-1.1-.9-2-2-2zM9 17H7v-7h2v7zm4 0h-2V7h2v10zm4 0h-2v-4h2v4z\"/>\n",
              "    </g>\n",
              "</svg>\n",
              "  </button>\n",
              "\n",
              "<style>\n",
              "  .colab-df-quickchart {\n",
              "      --bg-color: #E8F0FE;\n",
              "      --fill-color: #1967D2;\n",
              "      --hover-bg-color: #E2EBFA;\n",
              "      --hover-fill-color: #174EA6;\n",
              "      --disabled-fill-color: #AAA;\n",
              "      --disabled-bg-color: #DDD;\n",
              "  }\n",
              "\n",
              "  [theme=dark] .colab-df-quickchart {\n",
              "      --bg-color: #3B4455;\n",
              "      --fill-color: #D2E3FC;\n",
              "      --hover-bg-color: #434B5C;\n",
              "      --hover-fill-color: #FFFFFF;\n",
              "      --disabled-bg-color: #3B4455;\n",
              "      --disabled-fill-color: #666;\n",
              "  }\n",
              "\n",
              "  .colab-df-quickchart {\n",
              "    background-color: var(--bg-color);\n",
              "    border: none;\n",
              "    border-radius: 50%;\n",
              "    cursor: pointer;\n",
              "    display: none;\n",
              "    fill: var(--fill-color);\n",
              "    height: 32px;\n",
              "    padding: 0;\n",
              "    width: 32px;\n",
              "  }\n",
              "\n",
              "  .colab-df-quickchart:hover {\n",
              "    background-color: var(--hover-bg-color);\n",
              "    box-shadow: 0 1px 2px rgba(60, 64, 67, 0.3), 0 1px 3px 1px rgba(60, 64, 67, 0.15);\n",
              "    fill: var(--button-hover-fill-color);\n",
              "  }\n",
              "\n",
              "  .colab-df-quickchart-complete:disabled,\n",
              "  .colab-df-quickchart-complete:disabled:hover {\n",
              "    background-color: var(--disabled-bg-color);\n",
              "    fill: var(--disabled-fill-color);\n",
              "    box-shadow: none;\n",
              "  }\n",
              "\n",
              "  .colab-df-spinner {\n",
              "    border: 2px solid var(--fill-color);\n",
              "    border-color: transparent;\n",
              "    border-bottom-color: var(--fill-color);\n",
              "    animation:\n",
              "      spin 1s steps(1) infinite;\n",
              "  }\n",
              "\n",
              "  @keyframes spin {\n",
              "    0% {\n",
              "      border-color: transparent;\n",
              "      border-bottom-color: var(--fill-color);\n",
              "      border-left-color: var(--fill-color);\n",
              "    }\n",
              "    20% {\n",
              "      border-color: transparent;\n",
              "      border-left-color: var(--fill-color);\n",
              "      border-top-color: var(--fill-color);\n",
              "    }\n",
              "    30% {\n",
              "      border-color: transparent;\n",
              "      border-left-color: var(--fill-color);\n",
              "      border-top-color: var(--fill-color);\n",
              "      border-right-color: var(--fill-color);\n",
              "    }\n",
              "    40% {\n",
              "      border-color: transparent;\n",
              "      border-right-color: var(--fill-color);\n",
              "      border-top-color: var(--fill-color);\n",
              "    }\n",
              "    60% {\n",
              "      border-color: transparent;\n",
              "      border-right-color: var(--fill-color);\n",
              "    }\n",
              "    80% {\n",
              "      border-color: transparent;\n",
              "      border-right-color: var(--fill-color);\n",
              "      border-bottom-color: var(--fill-color);\n",
              "    }\n",
              "    90% {\n",
              "      border-color: transparent;\n",
              "      border-bottom-color: var(--fill-color);\n",
              "    }\n",
              "  }\n",
              "</style>\n",
              "\n",
              "  <script>\n",
              "    async function quickchart(key) {\n",
              "      const quickchartButtonEl =\n",
              "        document.querySelector('#' + key + ' button');\n",
              "      quickchartButtonEl.disabled = true;  // To prevent multiple clicks.\n",
              "      quickchartButtonEl.classList.add('colab-df-spinner');\n",
              "      try {\n",
              "        const charts = await google.colab.kernel.invokeFunction(\n",
              "            'suggestCharts', [key], {});\n",
              "      } catch (error) {\n",
              "        console.error('Error during call to suggestCharts:', error);\n",
              "      }\n",
              "      quickchartButtonEl.classList.remove('colab-df-spinner');\n",
              "      quickchartButtonEl.classList.add('colab-df-quickchart-complete');\n",
              "    }\n",
              "    (() => {\n",
              "      let quickchartButtonEl =\n",
              "        document.querySelector('#df-d8b212c0-4a60-4245-b87f-342d1c3749cd button');\n",
              "      quickchartButtonEl.style.display =\n",
              "        google.colab.kernel.accessAllowed ? 'block' : 'none';\n",
              "    })();\n",
              "  </script>\n",
              "</div>\n",
              "\n",
              "    </div>\n",
              "  </div>\n"
            ],
            "application/vnd.google.colaboratory.intrinsic+json": {
              "type": "dataframe",
              "summary": "{\n  \"name\": \"df2\",\n  \"rows\": 8,\n  \"fields\": [\n    {\n      \"column\": \"balance\",\n      \"properties\": {\n        \"dtype\": \"number\",\n        \"std\": 3304.6041266183447,\n        \"min\": 0.0,\n        \"max\": 10000.0,\n        \"num_unique_values\": 8,\n        \"samples\": [\n          835.3748856125571,\n          823.6369726129035,\n          10000.0\n        ],\n        \"semantic_type\": \"\",\n        \"description\": \"\"\n      }\n    },\n    {\n      \"column\": \"income\",\n      \"properties\": {\n        \"dtype\": \"number\",\n        \"std\": 23044.23732535217,\n        \"min\": 771.967729386357,\n        \"max\": 73554.2334951972,\n        \"num_unique_values\": 8,\n        \"samples\": [\n          33516.981875960504,\n          34552.644802009854,\n          10000.0\n        ],\n        \"semantic_type\": \"\",\n        \"description\": \"\"\n      }\n    }\n  ]\n}"
            }
          },
          "metadata": {},
          "execution_count": 15
        }
      ]
    },
    {
      "cell_type": "code",
      "source": [
        "df2.head()"
      ],
      "metadata": {
        "colab": {
          "base_uri": "https://localhost:8080/",
          "height": 206
        },
        "id": "yq1sTB6eWXfk",
        "outputId": "8bc65fc1-6f89-4da5-ab51-92a3bd4db351"
      },
      "execution_count": 16,
      "outputs": [
        {
          "output_type": "execute_result",
          "data": {
            "text/plain": [
              "  default student      balance        income\n",
              "0      No      No   729.526495  44361.625074\n",
              "1      No     Yes   817.180407  12106.134700\n",
              "2      No      No  1073.549164  31767.138947\n",
              "3      No      No   529.250605  35704.493935\n",
              "4      No      No   785.655883  38463.495879"
            ],
            "text/html": [
              "\n",
              "  <div id=\"df-f487e2bc-ba42-4121-80f2-d24f7241560b\" class=\"colab-df-container\">\n",
              "    <div>\n",
              "<style scoped>\n",
              "    .dataframe tbody tr th:only-of-type {\n",
              "        vertical-align: middle;\n",
              "    }\n",
              "\n",
              "    .dataframe tbody tr th {\n",
              "        vertical-align: top;\n",
              "    }\n",
              "\n",
              "    .dataframe thead th {\n",
              "        text-align: right;\n",
              "    }\n",
              "</style>\n",
              "<table border=\"1\" class=\"dataframe\">\n",
              "  <thead>\n",
              "    <tr style=\"text-align: right;\">\n",
              "      <th></th>\n",
              "      <th>default</th>\n",
              "      <th>student</th>\n",
              "      <th>balance</th>\n",
              "      <th>income</th>\n",
              "    </tr>\n",
              "  </thead>\n",
              "  <tbody>\n",
              "    <tr>\n",
              "      <th>0</th>\n",
              "      <td>No</td>\n",
              "      <td>No</td>\n",
              "      <td>729.526495</td>\n",
              "      <td>44361.625074</td>\n",
              "    </tr>\n",
              "    <tr>\n",
              "      <th>1</th>\n",
              "      <td>No</td>\n",
              "      <td>Yes</td>\n",
              "      <td>817.180407</td>\n",
              "      <td>12106.134700</td>\n",
              "    </tr>\n",
              "    <tr>\n",
              "      <th>2</th>\n",
              "      <td>No</td>\n",
              "      <td>No</td>\n",
              "      <td>1073.549164</td>\n",
              "      <td>31767.138947</td>\n",
              "    </tr>\n",
              "    <tr>\n",
              "      <th>3</th>\n",
              "      <td>No</td>\n",
              "      <td>No</td>\n",
              "      <td>529.250605</td>\n",
              "      <td>35704.493935</td>\n",
              "    </tr>\n",
              "    <tr>\n",
              "      <th>4</th>\n",
              "      <td>No</td>\n",
              "      <td>No</td>\n",
              "      <td>785.655883</td>\n",
              "      <td>38463.495879</td>\n",
              "    </tr>\n",
              "  </tbody>\n",
              "</table>\n",
              "</div>\n",
              "    <div class=\"colab-df-buttons\">\n",
              "\n",
              "  <div class=\"colab-df-container\">\n",
              "    <button class=\"colab-df-convert\" onclick=\"convertToInteractive('df-f487e2bc-ba42-4121-80f2-d24f7241560b')\"\n",
              "            title=\"Convert this dataframe to an interactive table.\"\n",
              "            style=\"display:none;\">\n",
              "\n",
              "  <svg xmlns=\"http://www.w3.org/2000/svg\" height=\"24px\" viewBox=\"0 -960 960 960\">\n",
              "    <path d=\"M120-120v-720h720v720H120Zm60-500h600v-160H180v160Zm220 220h160v-160H400v160Zm0 220h160v-160H400v160ZM180-400h160v-160H180v160Zm440 0h160v-160H620v160ZM180-180h160v-160H180v160Zm440 0h160v-160H620v160Z\"/>\n",
              "  </svg>\n",
              "    </button>\n",
              "\n",
              "  <style>\n",
              "    .colab-df-container {\n",
              "      display:flex;\n",
              "      gap: 12px;\n",
              "    }\n",
              "\n",
              "    .colab-df-convert {\n",
              "      background-color: #E8F0FE;\n",
              "      border: none;\n",
              "      border-radius: 50%;\n",
              "      cursor: pointer;\n",
              "      display: none;\n",
              "      fill: #1967D2;\n",
              "      height: 32px;\n",
              "      padding: 0 0 0 0;\n",
              "      width: 32px;\n",
              "    }\n",
              "\n",
              "    .colab-df-convert:hover {\n",
              "      background-color: #E2EBFA;\n",
              "      box-shadow: 0px 1px 2px rgba(60, 64, 67, 0.3), 0px 1px 3px 1px rgba(60, 64, 67, 0.15);\n",
              "      fill: #174EA6;\n",
              "    }\n",
              "\n",
              "    .colab-df-buttons div {\n",
              "      margin-bottom: 4px;\n",
              "    }\n",
              "\n",
              "    [theme=dark] .colab-df-convert {\n",
              "      background-color: #3B4455;\n",
              "      fill: #D2E3FC;\n",
              "    }\n",
              "\n",
              "    [theme=dark] .colab-df-convert:hover {\n",
              "      background-color: #434B5C;\n",
              "      box-shadow: 0px 1px 3px 1px rgba(0, 0, 0, 0.15);\n",
              "      filter: drop-shadow(0px 1px 2px rgba(0, 0, 0, 0.3));\n",
              "      fill: #FFFFFF;\n",
              "    }\n",
              "  </style>\n",
              "\n",
              "    <script>\n",
              "      const buttonEl =\n",
              "        document.querySelector('#df-f487e2bc-ba42-4121-80f2-d24f7241560b button.colab-df-convert');\n",
              "      buttonEl.style.display =\n",
              "        google.colab.kernel.accessAllowed ? 'block' : 'none';\n",
              "\n",
              "      async function convertToInteractive(key) {\n",
              "        const element = document.querySelector('#df-f487e2bc-ba42-4121-80f2-d24f7241560b');\n",
              "        const dataTable =\n",
              "          await google.colab.kernel.invokeFunction('convertToInteractive',\n",
              "                                                    [key], {});\n",
              "        if (!dataTable) return;\n",
              "\n",
              "        const docLinkHtml = 'Like what you see? Visit the ' +\n",
              "          '<a target=\"_blank\" href=https://colab.research.google.com/notebooks/data_table.ipynb>data table notebook</a>'\n",
              "          + ' to learn more about interactive tables.';\n",
              "        element.innerHTML = '';\n",
              "        dataTable['output_type'] = 'display_data';\n",
              "        await google.colab.output.renderOutput(dataTable, element);\n",
              "        const docLink = document.createElement('div');\n",
              "        docLink.innerHTML = docLinkHtml;\n",
              "        element.appendChild(docLink);\n",
              "      }\n",
              "    </script>\n",
              "  </div>\n",
              "\n",
              "\n",
              "<div id=\"df-51243224-836d-4fe6-986e-5ab11e15badd\">\n",
              "  <button class=\"colab-df-quickchart\" onclick=\"quickchart('df-51243224-836d-4fe6-986e-5ab11e15badd')\"\n",
              "            title=\"Suggest charts\"\n",
              "            style=\"display:none;\">\n",
              "\n",
              "<svg xmlns=\"http://www.w3.org/2000/svg\" height=\"24px\"viewBox=\"0 0 24 24\"\n",
              "     width=\"24px\">\n",
              "    <g>\n",
              "        <path d=\"M19 3H5c-1.1 0-2 .9-2 2v14c0 1.1.9 2 2 2h14c1.1 0 2-.9 2-2V5c0-1.1-.9-2-2-2zM9 17H7v-7h2v7zm4 0h-2V7h2v10zm4 0h-2v-4h2v4z\"/>\n",
              "    </g>\n",
              "</svg>\n",
              "  </button>\n",
              "\n",
              "<style>\n",
              "  .colab-df-quickchart {\n",
              "      --bg-color: #E8F0FE;\n",
              "      --fill-color: #1967D2;\n",
              "      --hover-bg-color: #E2EBFA;\n",
              "      --hover-fill-color: #174EA6;\n",
              "      --disabled-fill-color: #AAA;\n",
              "      --disabled-bg-color: #DDD;\n",
              "  }\n",
              "\n",
              "  [theme=dark] .colab-df-quickchart {\n",
              "      --bg-color: #3B4455;\n",
              "      --fill-color: #D2E3FC;\n",
              "      --hover-bg-color: #434B5C;\n",
              "      --hover-fill-color: #FFFFFF;\n",
              "      --disabled-bg-color: #3B4455;\n",
              "      --disabled-fill-color: #666;\n",
              "  }\n",
              "\n",
              "  .colab-df-quickchart {\n",
              "    background-color: var(--bg-color);\n",
              "    border: none;\n",
              "    border-radius: 50%;\n",
              "    cursor: pointer;\n",
              "    display: none;\n",
              "    fill: var(--fill-color);\n",
              "    height: 32px;\n",
              "    padding: 0;\n",
              "    width: 32px;\n",
              "  }\n",
              "\n",
              "  .colab-df-quickchart:hover {\n",
              "    background-color: var(--hover-bg-color);\n",
              "    box-shadow: 0 1px 2px rgba(60, 64, 67, 0.3), 0 1px 3px 1px rgba(60, 64, 67, 0.15);\n",
              "    fill: var(--button-hover-fill-color);\n",
              "  }\n",
              "\n",
              "  .colab-df-quickchart-complete:disabled,\n",
              "  .colab-df-quickchart-complete:disabled:hover {\n",
              "    background-color: var(--disabled-bg-color);\n",
              "    fill: var(--disabled-fill-color);\n",
              "    box-shadow: none;\n",
              "  }\n",
              "\n",
              "  .colab-df-spinner {\n",
              "    border: 2px solid var(--fill-color);\n",
              "    border-color: transparent;\n",
              "    border-bottom-color: var(--fill-color);\n",
              "    animation:\n",
              "      spin 1s steps(1) infinite;\n",
              "  }\n",
              "\n",
              "  @keyframes spin {\n",
              "    0% {\n",
              "      border-color: transparent;\n",
              "      border-bottom-color: var(--fill-color);\n",
              "      border-left-color: var(--fill-color);\n",
              "    }\n",
              "    20% {\n",
              "      border-color: transparent;\n",
              "      border-left-color: var(--fill-color);\n",
              "      border-top-color: var(--fill-color);\n",
              "    }\n",
              "    30% {\n",
              "      border-color: transparent;\n",
              "      border-left-color: var(--fill-color);\n",
              "      border-top-color: var(--fill-color);\n",
              "      border-right-color: var(--fill-color);\n",
              "    }\n",
              "    40% {\n",
              "      border-color: transparent;\n",
              "      border-right-color: var(--fill-color);\n",
              "      border-top-color: var(--fill-color);\n",
              "    }\n",
              "    60% {\n",
              "      border-color: transparent;\n",
              "      border-right-color: var(--fill-color);\n",
              "    }\n",
              "    80% {\n",
              "      border-color: transparent;\n",
              "      border-right-color: var(--fill-color);\n",
              "      border-bottom-color: var(--fill-color);\n",
              "    }\n",
              "    90% {\n",
              "      border-color: transparent;\n",
              "      border-bottom-color: var(--fill-color);\n",
              "    }\n",
              "  }\n",
              "</style>\n",
              "\n",
              "  <script>\n",
              "    async function quickchart(key) {\n",
              "      const quickchartButtonEl =\n",
              "        document.querySelector('#' + key + ' button');\n",
              "      quickchartButtonEl.disabled = true;  // To prevent multiple clicks.\n",
              "      quickchartButtonEl.classList.add('colab-df-spinner');\n",
              "      try {\n",
              "        const charts = await google.colab.kernel.invokeFunction(\n",
              "            'suggestCharts', [key], {});\n",
              "      } catch (error) {\n",
              "        console.error('Error during call to suggestCharts:', error);\n",
              "      }\n",
              "      quickchartButtonEl.classList.remove('colab-df-spinner');\n",
              "      quickchartButtonEl.classList.add('colab-df-quickchart-complete');\n",
              "    }\n",
              "    (() => {\n",
              "      let quickchartButtonEl =\n",
              "        document.querySelector('#df-51243224-836d-4fe6-986e-5ab11e15badd button');\n",
              "      quickchartButtonEl.style.display =\n",
              "        google.colab.kernel.accessAllowed ? 'block' : 'none';\n",
              "    })();\n",
              "  </script>\n",
              "</div>\n",
              "\n",
              "    </div>\n",
              "  </div>\n"
            ],
            "application/vnd.google.colaboratory.intrinsic+json": {
              "type": "dataframe",
              "variable_name": "df2",
              "summary": "{\n  \"name\": \"df2\",\n  \"rows\": 10000,\n  \"fields\": [\n    {\n      \"column\": \"default\",\n      \"properties\": {\n        \"dtype\": \"category\",\n        \"num_unique_values\": 2,\n        \"samples\": [\n          \"Yes\",\n          \"No\"\n        ],\n        \"semantic_type\": \"\",\n        \"description\": \"\"\n      }\n    },\n    {\n      \"column\": \"student\",\n      \"properties\": {\n        \"dtype\": \"category\",\n        \"num_unique_values\": 2,\n        \"samples\": [\n          \"Yes\",\n          \"No\"\n        ],\n        \"semantic_type\": \"\",\n        \"description\": \"\"\n      }\n    },\n    {\n      \"column\": \"balance\",\n      \"properties\": {\n        \"dtype\": \"number\",\n        \"std\": 483.71498520561704,\n        \"min\": 0.0,\n        \"max\": 2654.32257628018,\n        \"num_unique_values\": 9502,\n        \"samples\": [\n          245.346492518079,\n          186.523520052956\n        ],\n        \"semantic_type\": \"\",\n        \"description\": \"\"\n      }\n    },\n    {\n      \"column\": \"income\",\n      \"properties\": {\n        \"dtype\": \"number\",\n        \"std\": 13336.639562689938,\n        \"min\": 771.967729386357,\n        \"max\": 73554.2334951972,\n        \"num_unique_values\": 10000,\n        \"samples\": [\n          31507.0892769087,\n          42139.0702685072\n        ],\n        \"semantic_type\": \"\",\n        \"description\": \"\"\n      }\n    }\n  ]\n}"
            }
          },
          "metadata": {},
          "execution_count": 16
        }
      ]
    },
    {
      "cell_type": "markdown",
      "source": [
        "First we'll try just holding out a random 20% of the data:"
      ],
      "metadata": {
        "id": "AiddoFuIWaCT"
      }
    },
    {
      "cell_type": "code",
      "source": [
        "import statsmodels.formula.api as smf\n",
        "import statsmodels.api as sm\n",
        "from sklearn.metrics import confusion_matrix, classification_report\n",
        "\n",
        "for i in range(1,11):\n",
        "    train_df2 = df2.sample(8000, random_state = i)\n",
        "    test_df2 = df2[~df2.isin(train_df2)].dropna(how = 'all')\n",
        "\n",
        "    # Fit a logistic regression to predict default using balance\n",
        "    model = smf.glm('default~balance', data=train_df2, family=sm.families.Binomial())\n",
        "    result = model.fit()\n",
        "    predictions_nominal = [ \"Yes\" if x < 0.5 else \"No\" for x in result.predict(test_df2)]\n",
        "    print(\"----------------\")\n",
        "    print(\"Random Seed = \" + str(i) + \"\")\n",
        "    print(\"----------------\")\n",
        "    print(confusion_matrix(test_df2[\"default\"],\n",
        "                       predictions_nominal))\n",
        "    print(classification_report(test_df2[\"default\"],\n",
        "                            predictions_nominal,\n",
        "                            digits = 3))\n",
        "    print()"
      ],
      "metadata": {
        "colab": {
          "base_uri": "https://localhost:8080/"
        },
        "id": "QARfNuR6Wc2P",
        "outputId": "b157a7c2-5b0d-4081-b8b1-8190cbaf96ba"
      },
      "execution_count": 17,
      "outputs": [
        {
          "output_type": "stream",
          "name": "stdout",
          "text": [
            "----------------\n",
            "Random Seed = 1\n",
            "----------------\n",
            "[[1921    6]\n",
            " [  50   23]]\n",
            "              precision    recall  f1-score   support\n",
            "\n",
            "          No      0.975     0.997     0.986      1927\n",
            "         Yes      0.793     0.315     0.451        73\n",
            "\n",
            "    accuracy                          0.972      2000\n",
            "   macro avg      0.884     0.656     0.718      2000\n",
            "weighted avg      0.968     0.972     0.966      2000\n",
            "\n",
            "\n",
            "----------------\n",
            "Random Seed = 2\n",
            "----------------\n",
            "[[1919   13]\n",
            " [  47   21]]\n",
            "              precision    recall  f1-score   support\n",
            "\n",
            "          No      0.976     0.993     0.985      1932\n",
            "         Yes      0.618     0.309     0.412        68\n",
            "\n",
            "    accuracy                          0.970      2000\n",
            "   macro avg      0.797     0.651     0.698      2000\n",
            "weighted avg      0.964     0.970     0.965      2000\n",
            "\n",
            "\n",
            "----------------\n",
            "Random Seed = 3\n",
            "----------------\n",
            "[[1918   14]\n",
            " [  49   19]]\n",
            "              precision    recall  f1-score   support\n",
            "\n",
            "          No      0.975     0.993     0.984      1932\n",
            "         Yes      0.576     0.279     0.376        68\n",
            "\n",
            "    accuracy                          0.969      2000\n",
            "   macro avg      0.775     0.636     0.680      2000\n",
            "weighted avg      0.962     0.969     0.963      2000\n",
            "\n",
            "\n",
            "----------------\n",
            "Random Seed = 4\n",
            "----------------\n",
            "[[1932    4]\n",
            " [  46   18]]\n",
            "              precision    recall  f1-score   support\n",
            "\n",
            "          No      0.977     0.998     0.987      1936\n",
            "         Yes      0.818     0.281     0.419        64\n",
            "\n",
            "    accuracy                          0.975      2000\n",
            "   macro avg      0.897     0.640     0.703      2000\n",
            "weighted avg      0.972     0.975     0.969      2000\n",
            "\n",
            "\n",
            "----------------\n",
            "Random Seed = 5\n",
            "----------------\n",
            "[[1917    8]\n",
            " [  52   23]]\n",
            "              precision    recall  f1-score   support\n",
            "\n",
            "          No      0.974     0.996     0.985      1925\n",
            "         Yes      0.742     0.307     0.434        75\n",
            "\n",
            "    accuracy                          0.970      2000\n",
            "   macro avg      0.858     0.651     0.709      2000\n",
            "weighted avg      0.965     0.970     0.964      2000\n",
            "\n",
            "\n",
            "----------------\n",
            "Random Seed = 6\n",
            "----------------\n",
            "[[1938    8]\n",
            " [  38   16]]\n",
            "              precision    recall  f1-score   support\n",
            "\n",
            "          No      0.981     0.996     0.988      1946\n",
            "         Yes      0.667     0.296     0.410        54\n",
            "\n",
            "    accuracy                          0.977      2000\n",
            "   macro avg      0.824     0.646     0.699      2000\n",
            "weighted avg      0.972     0.977     0.973      2000\n",
            "\n",
            "\n",
            "----------------\n",
            "Random Seed = 7\n",
            "----------------\n",
            "[[1919    5]\n",
            " [  59   17]]\n",
            "              precision    recall  f1-score   support\n",
            "\n",
            "          No      0.970     0.997     0.984      1924\n",
            "         Yes      0.773     0.224     0.347        76\n",
            "\n",
            "    accuracy                          0.968      2000\n",
            "   macro avg      0.871     0.611     0.665      2000\n",
            "weighted avg      0.963     0.968     0.959      2000\n",
            "\n",
            "\n",
            "----------------\n",
            "Random Seed = 8\n",
            "----------------\n",
            "[[1921   16]\n",
            " [  46   17]]\n",
            "              precision    recall  f1-score   support\n",
            "\n",
            "          No      0.977     0.992     0.984      1937\n",
            "         Yes      0.515     0.270     0.354        63\n",
            "\n",
            "    accuracy                          0.969      2000\n",
            "   macro avg      0.746     0.631     0.669      2000\n",
            "weighted avg      0.962     0.969     0.964      2000\n",
            "\n",
            "\n",
            "----------------\n",
            "Random Seed = 9\n",
            "----------------\n",
            "[[1917    6]\n",
            " [  60   17]]\n",
            "              precision    recall  f1-score   support\n",
            "\n",
            "          No      0.970     0.997     0.983      1923\n",
            "         Yes      0.739     0.221     0.340        77\n",
            "\n",
            "    accuracy                          0.967      2000\n",
            "   macro avg      0.854     0.609     0.662      2000\n",
            "weighted avg      0.961     0.967     0.958      2000\n",
            "\n",
            "\n",
            "----------------\n",
            "Random Seed = 10\n",
            "----------------\n",
            "[[1926    6]\n",
            " [  49   19]]\n",
            "              precision    recall  f1-score   support\n",
            "\n",
            "          No      0.975     0.997     0.986      1932\n",
            "         Yes      0.760     0.279     0.409        68\n",
            "\n",
            "    accuracy                          0.973      2000\n",
            "   macro avg      0.868     0.638     0.697      2000\n",
            "weighted avg      0.968     0.973     0.966      2000\n",
            "\n",
            "\n"
          ]
        }
      ]
    }
  ]
}